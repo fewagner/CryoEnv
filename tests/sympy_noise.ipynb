{
 "cells": [
  {
   "cell_type": "code",
   "execution_count": 1,
   "id": "9c17f169-9644-4146-b5a5-d09663ec7428",
   "metadata": {
    "tags": []
   },
   "outputs": [],
   "source": [
    "import numpy as np\n",
    "import sympy as sp\n",
    "from sympy import I, print_latex, collect"
   ]
  },
  {
   "cell_type": "markdown",
   "id": "d2c8df7c-daef-4fe1-b4d4-10bc8cbe455f",
   "metadata": {},
   "source": [
    "# Invert the matrix"
   ]
  },
  {
   "cell_type": "code",
   "execution_count": 21,
   "id": "96fcd87b-f25e-46de-baa3-1297e60c7985",
   "metadata": {
    "tags": []
   },
   "outputs": [],
   "source": [
    "# Define the variables\n",
    "G_eff, w, C_e, R_f0, I_f0, dR_f_dT_e, T_e0, R_s, L, dR_f_dT_e, I_0 = sp.symbols('G_eff w C_e R_f0 I_f0 dR_f_dT_e T_e0 R_s L dR_f_dT_e I_0', real=True)"
   ]
  },
  {
   "cell_type": "code",
   "execution_count": 13,
   "id": "b2e43b38-c6e5-4d3e-8341-03dca92e96f1",
   "metadata": {
    "tags": []
   },
   "outputs": [
    {
     "data": {
      "text/latex": [
       "$\\displaystyle \\left[\\begin{matrix}2 i \\pi C_{e} w + G_{eff} & - 2 I_{f0} R_{f0}\\\\I_{f0} dR_{f dT e} & - 2 i \\pi L w + R_{f0} + R_{s}\\end{matrix}\\right]$"
      ],
      "text/plain": [
       "Matrix([\n",
       "[2*I*pi*C_e*w + G_eff,             -2*I_f0*R_f0],\n",
       "[      I_f0*dR_f_dT_e, -2*I*pi*L*w + R_f0 + R_s]])"
      ]
     },
     "execution_count": 13,
     "metadata": {},
     "output_type": "execute_result"
    }
   ],
   "source": [
    "# Define the matrix\n",
    "A = sp.Matrix([[G_eff + 2 * sp.pi * w * I * C_e, -2 * R_f0 * I_f0],\n",
    "               [I_f0 * dR_f_dT_e, R_f0 + R_s - 2 * sp.pi * w * I * L]])\n",
    "A"
   ]
  },
  {
   "cell_type": "code",
   "execution_count": 26,
   "id": "b757fb77-54bc-473b-ac98-c0f09c405919",
   "metadata": {
    "tags": []
   },
   "outputs": [],
   "source": [
    "# Find the inverse of the matrix\n",
    "A_inv = A.inv()\n",
    "\n",
    "# Simplify the result\n",
    "A_inv.simplify()"
   ]
  },
  {
   "cell_type": "code",
   "execution_count": 33,
   "id": "5d851c77-5b30-41a3-a787-1646febbdaba",
   "metadata": {
    "tags": []
   },
   "outputs": [
    {
     "data": {
      "text/latex": [
       "$\\displaystyle \\left[\\begin{matrix}\\frac{- 2 i \\pi L w + R_{f0} + R_{s}}{4 \\pi^{2} C_{e} L w^{2} + 2 i \\pi C_{e} R_{f0} w + 2 i \\pi C_{e} R_{s} w - 2 i \\pi G_{eff} L w + G_{eff} R_{f0} + G_{eff} R_{s} + 2 I_{f0}^{2} R_{f0} dR_{f dT e}} & \\frac{2 I_{f0} R_{f0}}{4 \\pi^{2} C_{e} L w^{2} + 2 i \\pi C_{e} R_{f0} w + 2 i \\pi C_{e} R_{s} w - 2 i \\pi G_{eff} L w + G_{eff} R_{f0} + G_{eff} R_{s} + 2 I_{f0}^{2} R_{f0} dR_{f dT e}}\\\\- \\frac{I_{f0} dR_{f dT e}}{4 \\pi^{2} C_{e} L w^{2} + 2 i \\pi C_{e} R_{f0} w + 2 i \\pi C_{e} R_{s} w - 2 i \\pi G_{eff} L w + G_{eff} R_{f0} + G_{eff} R_{s} + 2 I_{f0}^{2} R_{f0} dR_{f dT e}} & \\frac{2 i \\pi C_{e} w + G_{eff}}{4 \\pi^{2} C_{e} L w^{2} + 2 i \\pi C_{e} R_{f0} w + 2 i \\pi C_{e} R_{s} w - 2 i \\pi G_{eff} L w + G_{eff} R_{f0} + G_{eff} R_{s} + 2 I_{f0}^{2} R_{f0} dR_{f dT e}}\\end{matrix}\\right]$"
      ],
      "text/plain": [
       "Matrix([\n",
       "[(-2*I*pi*L*w + R_f0 + R_s)/(4*pi**2*C_e*L*w**2 + 2*I*pi*C_e*R_f0*w + 2*I*pi*C_e*R_s*w - 2*I*pi*G_eff*L*w + G_eff*R_f0 + G_eff*R_s + 2*I_f0**2*R_f0*dR_f_dT_e),            2*I_f0*R_f0/(4*pi**2*C_e*L*w**2 + 2*I*pi*C_e*R_f0*w + 2*I*pi*C_e*R_s*w - 2*I*pi*G_eff*L*w + G_eff*R_f0 + G_eff*R_s + 2*I_f0**2*R_f0*dR_f_dT_e)],\n",
       "[           -I_f0*dR_f_dT_e/(4*pi**2*C_e*L*w**2 + 2*I*pi*C_e*R_f0*w + 2*I*pi*C_e*R_s*w - 2*I*pi*G_eff*L*w + G_eff*R_f0 + G_eff*R_s + 2*I_f0**2*R_f0*dR_f_dT_e), (2*I*pi*C_e*w + G_eff)/(4*pi**2*C_e*L*w**2 + 2*I*pi*C_e*R_f0*w + 2*I*pi*C_e*R_s*w - 2*I*pi*G_eff*L*w + G_eff*R_f0 + G_eff*R_s + 2*I_f0**2*R_f0*dR_f_dT_e)]])"
      ]
     },
     "execution_count": 33,
     "metadata": {},
     "output_type": "execute_result"
    }
   ],
   "source": [
    "A_inv"
   ]
  },
  {
   "cell_type": "code",
   "execution_count": 34,
   "id": "9cf20966-b772-4735-8d13-7267e8f9359b",
   "metadata": {
    "tags": []
   },
   "outputs": [
    {
     "data": {
      "text/latex": [
       "$\\displaystyle \\frac{1}{4 \\pi^{2} C_{e} L w^{2} + 2 i \\pi C_{e} R_{f0} w + 2 i \\pi C_{e} R_{s} w - 2 i \\pi G_{eff} L w + G_{eff} R_{f0} + G_{eff} R_{s} + 2 I_{f0}^{2} R_{f0} dR_{f dT e}}$"
      ],
      "text/plain": [
       "1/(4*pi**2*C_e*L*w**2 + 2*I*pi*C_e*R_f0*w + 2*I*pi*C_e*R_s*w - 2*I*pi*G_eff*L*w + G_eff*R_f0 + G_eff*R_s + 2*I_f0**2*R_f0*dR_f_dT_e)"
      ]
     },
     "execution_count": 34,
     "metadata": {},
     "output_type": "execute_result"
    }
   ],
   "source": [
    "xi = A_inv[0,1]/(2*I_f0*R_f0)\n",
    "xi"
   ]
  },
  {
   "cell_type": "code",
   "execution_count": 54,
   "id": "0c603474-a79b-42e6-a7c9-8a807b7dc9ca",
   "metadata": {
    "tags": []
   },
   "outputs": [
    {
     "name": "stdout",
     "output_type": "stream",
     "text": [
      "\\frac{1}{4 \\pi^{2} C_{e} L w^{2} + G_{eff} \\left(R_{f0} + R_{s}\\right) + 2 I_{f0}^{2} R_{f0} dR_{f dT e} + i \\left(2 \\pi C_{e} R_{f0} w + 2 \\pi C_{e} R_{s} w - 2 \\pi G_{eff} L w\\right)}\n"
     ]
    }
   ],
   "source": [
    "print_latex(collect(xi, [I, G_eff]))"
   ]
  },
  {
   "cell_type": "code",
   "execution_count": 36,
   "id": "893bf4b9-ce40-44f0-9da5-66796912b8eb",
   "metadata": {
    "tags": []
   },
   "outputs": [
    {
     "data": {
      "text/latex": [
       "$\\displaystyle \\left[\\begin{matrix}- 2 i \\pi L w + R_{f0} + R_{s} & 2 I_{f0} R_{f0}\\\\- I_{f0} dR_{f dT e} & 2 i \\pi C_{e} w + G_{eff}\\end{matrix}\\right]$"
      ],
      "text/plain": [
       "Matrix([\n",
       "[-2*I*pi*L*w + R_f0 + R_s,          2*I_f0*R_f0],\n",
       "[         -I_f0*dR_f_dT_e, 2*I*pi*C_e*w + G_eff]])"
      ]
     },
     "execution_count": 36,
     "metadata": {},
     "output_type": "execute_result"
    }
   ],
   "source": [
    "S = A_inv/xi\n",
    "S"
   ]
  },
  {
   "cell_type": "markdown",
   "id": "b9ba3615-c000-4c17-93dd-e11eae47b7c2",
   "metadata": {},
   "source": [
    "# solve the transfer functions"
   ]
  },
  {
   "cell_type": "code",
   "execution_count": 55,
   "id": "c08d0c4c-a6f6-424e-a6b5-2045a490365d",
   "metadata": {
    "tags": []
   },
   "outputs": [
    {
     "data": {
      "text/latex": [
       "$\\displaystyle - \\frac{I_{f0} dR_{f dT e}}{- 2 i \\pi L w + R_{f0} + R_{s}}$"
      ],
      "text/plain": [
       "-I_f0*dR_f_dT_e/(-2*I*pi*L*w + R_f0 + R_s)"
      ]
     },
     "execution_count": 55,
     "metadata": {},
     "output_type": "execute_result"
    }
   ],
   "source": [
    "lambda_val = -I_f0 / (R_s + R_f0 - 2 * sp.pi * w * I * L) * dR_f_dT_e\n",
    "lambda_val"
   ]
  },
  {
   "cell_type": "code",
   "execution_count": 56,
   "id": "b71f771c-4af7-46d9-bcdd-796bfb37ea28",
   "metadata": {
    "tags": []
   },
   "outputs": [
    {
     "data": {
      "text/latex": [
       "$\\displaystyle \\frac{2 I_{f0} R_{f0}}{- 2 i \\pi L w + R_{f0} + R_{s}}$"
      ],
      "text/plain": [
       "2*I_f0*R_f0/(-2*I*pi*L*w + R_f0 + R_s)"
      ]
     },
     "execution_count": 56,
     "metadata": {},
     "output_type": "execute_result"
    }
   ],
   "source": [
    "beta = 2 * R_f0 * I_f0 / (R_s + R_f0 - 2 * sp.pi * w * I * L)\n",
    "beta"
   ]
  },
  {
   "cell_type": "code",
   "execution_count": 62,
   "id": "6c5991b4-0c52-4a06-a2b2-2d2536a313a6",
   "metadata": {
    "tags": []
   },
   "outputs": [
    {
     "data": {
      "text/latex": [
       "$\\displaystyle - \\frac{2 I_{f0} dR_{f dT e}}{4 \\pi^{2} C_{e} L w^{2} + 2 i \\pi C_{e} R_{f0} w + 2 i \\pi C_{e} R_{s} w - 2 i \\pi G_{eff} L w + G_{eff} R_{f0} + G_{eff} R_{s} + 2 I_{f0}^{2} R_{f0} dR_{f dT e}}$"
      ],
      "text/plain": [
       "-2*I_f0*dR_f_dT_e/(4*pi**2*C_e*L*w**2 + 2*I*pi*C_e*R_f0*w + 2*I*pi*C_e*R_s*w - 2*I*pi*G_eff*L*w + G_eff*R_f0 + G_eff*R_s + 2*I_f0**2*R_f0*dR_f_dT_e)"
      ]
     },
     "execution_count": 62,
     "metadata": {},
     "output_type": "execute_result"
    }
   ],
   "source": [
    "I_pe = lambda_val * A_inv[0,0] + A_inv[1,0]\n",
    "I_pe.simplify()"
   ]
  },
  {
   "cell_type": "code",
   "execution_count": 69,
   "id": "53a2c2da-9721-4c83-8aa7-d96dd11b927c",
   "metadata": {
    "tags": []
   },
   "outputs": [
    {
     "data": {
      "text/latex": [
       "$\\displaystyle - \\frac{2 I_{f0} dR_{f dT e}}{C_{e} \\left(4 \\pi^{2} L w^{2} + 2 i \\pi R_{f0} w + 2 i \\pi R_{s} w\\right) + G_{eff} \\left(- 2 i \\pi L w + R_{f0} + R_{s}\\right) + 2 I_{f0}^{2} R_{f0} dR_{f dT e}}$"
      ],
      "text/plain": [
       "-2*I_f0*dR_f_dT_e/(C_e*(4*pi**2*L*w**2 + 2*I*pi*R_f0*w + 2*I*pi*R_s*w) + G_eff*(-2*I*pi*L*w + R_f0 + R_s) + 2*I_f0**2*R_f0*dR_f_dT_e)"
      ]
     },
     "execution_count": 69,
     "metadata": {},
     "output_type": "execute_result"
    }
   ],
   "source": [
    "collect(I_pe, [G_eff, C_e])"
   ]
  },
  {
   "cell_type": "code",
   "execution_count": 64,
   "id": "3bb794b6-a6fb-45e2-b100-24a8d5ac0605",
   "metadata": {
    "tags": []
   },
   "outputs": [
    {
     "data": {
      "text/latex": [
       "$\\displaystyle \\frac{- 2 I_{f0}^{2} R_{f0} dR_{f dT e} + \\left(2 i \\pi C_{e} w + G_{eff}\\right) \\left(- 2 i \\pi L w + R_{f0} + R_{s}\\right)}{\\left(- 2 i \\pi L w + R_{f0} + R_{s}\\right) \\left(4 \\pi^{2} C_{e} L w^{2} + 2 i \\pi C_{e} R_{f0} w + 2 i \\pi C_{e} R_{s} w - 2 i \\pi G_{eff} L w + G_{eff} R_{f0} + G_{eff} R_{s} + 2 I_{f0}^{2} R_{f0} dR_{f dT e}\\right)}$"
      ],
      "text/plain": [
       "(-2*I_f0**2*R_f0*dR_f_dT_e + (2*I*pi*C_e*w + G_eff)*(-2*I*pi*L*w + R_f0 + R_s))/((-2*I*pi*L*w + R_f0 + R_s)*(4*pi**2*C_e*L*w**2 + 2*I*pi*C_e*R_f0*w + 2*I*pi*C_e*R_s*w - 2*I*pi*G_eff*L*w + G_eff*R_f0 + G_eff*R_s + 2*I_f0**2*R_f0*dR_f_dT_e))"
      ]
     },
     "execution_count": 64,
     "metadata": {},
     "output_type": "execute_result"
    }
   ],
   "source": [
    "I_u = lambda_val * A_inv[0,1] + A_inv[1,1]\n",
    "I_u.simplify()"
   ]
  },
  {
   "cell_type": "code",
   "execution_count": null,
   "id": "6d7d89f8-d770-4bf4-87cd-5bb178180c27",
   "metadata": {
    "tags": []
   },
   "outputs": [],
   "source": []
  },
  {
   "cell_type": "code",
   "execution_count": 65,
   "id": "378eef8e-08d8-4270-b131-b88d3822adab",
   "metadata": {
    "tags": []
   },
   "outputs": [
    {
     "data": {
      "text/latex": [
       "$\\displaystyle - \\frac{6 I_{f0}^{2} R_{f0} dR_{f dT e}}{\\left(- 2 i \\pi L w + R_{f0} + R_{s}\\right) \\left(4 \\pi^{2} C_{e} L w^{2} + 2 i \\pi C_{e} R_{f0} w + 2 i \\pi C_{e} R_{s} w - 2 i \\pi G_{eff} L w + G_{eff} R_{f0} + G_{eff} R_{s} + 2 I_{f0}^{2} R_{f0} dR_{f dT e}\\right)} + \\frac{2 i \\pi C_{e} w + G_{eff}}{4 \\pi^{2} C_{e} L w^{2} + 2 i \\pi C_{e} R_{f0} w + 2 i \\pi C_{e} R_{s} w - 2 i \\pi G_{eff} L w + G_{eff} R_{f0} + G_{eff} R_{s} + 2 I_{f0}^{2} R_{f0} dR_{f dT e}}$"
      ],
      "text/plain": [
       "-6*I_f0**2*R_f0*dR_f_dT_e/((-2*I*pi*L*w + R_f0 + R_s)*(4*pi**2*C_e*L*w**2 + 2*I*pi*C_e*R_f0*w + 2*I*pi*C_e*R_s*w - 2*I*pi*G_eff*L*w + G_eff*R_f0 + G_eff*R_s + 2*I_f0**2*R_f0*dR_f_dT_e)) + (2*I*pi*C_e*w + G_eff)/(4*pi**2*C_e*L*w**2 + 2*I*pi*C_e*R_f0*w + 2*I*pi*C_e*R_s*w - 2*I*pi*G_eff*L*w + G_eff*R_f0 + G_eff*R_s + 2*I_f0**2*R_f0*dR_f_dT_e)"
      ]
     },
     "execution_count": 65,
     "metadata": {},
     "output_type": "execute_result"
    }
   ],
   "source": [
    "I_u_total = beta*I_pe + I_u\n",
    "I_u_total.simplify()\n",
    "I_u_total"
   ]
  },
  {
   "cell_type": "markdown",
   "id": "c2e68407-3be2-4243-96d2-2e3b77c65746",
   "metadata": {},
   "source": [
    "# Follow Hilton and Irwin"
   ]
  },
  {
   "cell_type": "code",
   "execution_count": 65,
   "id": "4413d9ef-289f-4049-8ca1-01d16e17d431",
   "metadata": {
    "tags": []
   },
   "outputs": [],
   "source": [
    "from sympy import pi, I, latex\n",
    "\n",
    "tau_I, w, C_e, R_f0, I_f0, G_eb, L_I, tau_el, L, R_s = symbols('tau_I w C_e R_f0 I_f0 G_eb L_I tau_el L R_s')\n",
    "matrix2 = Matrix([[(1/tau_I + 2*pi*w*I) * C_e, -2 * R_f0 * I_f0],\n",
    "                  [G_eb * L_I / I_f0, (1/tau_el + 2*pi*w*I) * L]])\n"
   ]
  },
  {
   "cell_type": "markdown",
   "id": "b69534ba-8b43-465d-bb7a-4a20fd893602",
   "metadata": {},
   "source": [
    "external "
   ]
  },
  {
   "cell_type": "code",
   "execution_count": 54,
   "id": "10404885-5159-4ec1-8021-03e19279485d",
   "metadata": {
    "tags": []
   },
   "outputs": [
    {
     "data": {
      "text/latex": [
       "$\\displaystyle \\left[\\begin{matrix}C_{e} \\left(2 i \\pi w + \\frac{1}{\\tau_{I}}\\right) & - 2 I_{f0} R_{f0}\\\\\\frac{G_{eb} L_{I}}{I_{f0}} & L \\left(2 i \\pi w + \\frac{1}{\\tau_{el}}\\right)\\end{matrix}\\right]$"
      ],
      "text/plain": [
       "Matrix([\n",
       "[C_e*(2*I*pi*w + 1/tau_I),            -2*I_f0*R_f0],\n",
       "[           G_eb*L_I/I_f0, L*(2*I*pi*w + 1/tau_el)]])"
      ]
     },
     "execution_count": 54,
     "metadata": {},
     "output_type": "execute_result"
    }
   ],
   "source": [
    "matrix2"
   ]
  },
  {
   "cell_type": "code",
   "execution_count": 49,
   "id": "ad4ee47f-d0eb-4475-becd-f4b23cd70c34",
   "metadata": {
    "tags": []
   },
   "outputs": [],
   "source": [
    "m_inv = matrix2.inv()"
   ]
  },
  {
   "cell_type": "code",
   "execution_count": 82,
   "id": "ff2b36a3-0c18-48fd-850f-f66463ac8cc3",
   "metadata": {
    "tags": []
   },
   "outputs": [
    {
     "data": {
      "text/latex": [
       "$\\displaystyle \\frac{G_{eb} L_{I} \\tau_{I} \\tau_{el}}{I_{f0} \\cdot \\left(4 \\pi^{2} C_{e} L \\tau_{I} \\tau_{el} w^{2} - 2 i \\pi C_{e} L \\tau_{I} w - 2 i \\pi C_{e} L \\tau_{el} w - C_{e} L - 2 G_{eb} L_{I} R_{f0} \\tau_{I} \\tau_{el}\\right)}$"
      ],
      "text/plain": [
       "G_eb*L_I*tau_I*tau_el/(I_f0*(4*pi**2*C_e*L*tau_I*tau_el*w**2 - 2*I*pi*C_e*L*tau_I*w - 2*I*pi*C_e*L*tau_el*w - C_e*L - 2*G_eb*L_I*R_f0*tau_I*tau_el))"
      ]
     },
     "execution_count": 82,
     "metadata": {},
     "output_type": "execute_result"
    }
   ],
   "source": [
    "m_inv[1,0].simplify()"
   ]
  },
  {
   "cell_type": "code",
   "execution_count": 62,
   "id": "fb36193d-1a90-4f80-9c56-a1024304b37e",
   "metadata": {
    "tags": []
   },
   "outputs": [
    {
     "data": {
      "text/plain": [
       "'\\\\frac{- 2 i \\\\pi C_{e} \\\\tau_{I} \\\\tau_{el} w - C_{e} \\\\tau_{el}}{4 \\\\pi^{2} C_{e} L \\\\tau_{I} \\\\tau_{el} w^{2} - 2 i \\\\pi C_{e} L \\\\tau_{I} w - 2 i \\\\pi C_{e} L \\\\tau_{el} w - C_{e} L - 2 G_{eb} L_{I} R_{f0} \\\\tau_{I} \\\\tau_{el}}'"
      ]
     },
     "execution_count": 62,
     "metadata": {},
     "output_type": "execute_result"
    }
   ],
   "source": [
    "latex(m_inv[1,1])"
   ]
  },
  {
   "cell_type": "markdown",
   "id": "f3f88643-057b-4bfc-ad6f-073b77b5c8eb",
   "metadata": {},
   "source": [
    "internal"
   ]
  },
  {
   "cell_type": "code",
   "execution_count": 80,
   "id": "91481c9f-025b-4270-bf25-d959b8f51a3a",
   "metadata": {
    "tags": []
   },
   "outputs": [],
   "source": [
    "matrix3 = Matrix([[(1/tau_I + 2*pi*w*I) * C_e, I_f0 * (2 * pi * I * w * L + R_f0 + R_s)],\n",
    "                  [G_eb * L_I / I_f0, (1/tau_el + 2*pi*w*I) * L]])"
   ]
  },
  {
   "cell_type": "code",
   "execution_count": 81,
   "id": "46cacc4d-546a-46c0-9fc3-983a55d5270a",
   "metadata": {
    "tags": []
   },
   "outputs": [
    {
     "data": {
      "text/latex": [
       "$\\displaystyle \\left[\\begin{matrix}C_{e} \\left(2 i \\pi w + \\frac{1}{\\tau_{I}}\\right) & I_{f0} \\cdot \\left(2 i \\pi L w + R_{f0} + R_{s}\\right)\\\\\\frac{G_{eb} L_{I}}{I_{f0}} & L \\left(2 i \\pi w + \\frac{1}{\\tau_{el}}\\right)\\end{matrix}\\right]$"
      ],
      "text/plain": [
       "Matrix([\n",
       "[C_e*(2*I*pi*w + 1/tau_I), I_f0*(2*I*pi*L*w + R_f0 + R_s)],\n",
       "[           G_eb*L_I/I_f0,        L*(2*I*pi*w + 1/tau_el)]])"
      ]
     },
     "execution_count": 81,
     "metadata": {},
     "output_type": "execute_result"
    }
   ],
   "source": [
    "matrix3"
   ]
  },
  {
   "cell_type": "code",
   "execution_count": 76,
   "id": "9eb8d600-4ef2-499d-9a8f-592e85ad13e9",
   "metadata": {
    "tags": []
   },
   "outputs": [],
   "source": [
    "m_inv3 = matrix3.inv()"
   ]
  },
  {
   "cell_type": "code",
   "execution_count": 78,
   "id": "96ebcb55-d25c-4aa3-8c9e-8d727d185764",
   "metadata": {
    "tags": []
   },
   "outputs": [
    {
     "data": {
      "text/latex": [
       "$\\displaystyle \\frac{L \\tau_{I} \\left(- 2 i \\pi \\tau_{el} w - 1\\right)}{4 \\pi^{2} C_{e} L \\tau_{I} \\tau_{el} w^{2} - 2 i \\pi C_{e} L \\tau_{I} w - 2 i \\pi C_{e} L \\tau_{el} w - C_{e} L + 2 i \\pi G_{eb} L L_{I} \\tau_{I} \\tau_{el} w + G_{eb} L_{I} R_{f0} \\tau_{I} \\tau_{el} + G_{eb} L_{I} R_{s} \\tau_{I} \\tau_{el}}$"
      ],
      "text/plain": [
       "L*tau_I*(-2*I*pi*tau_el*w - 1)/(4*pi**2*C_e*L*tau_I*tau_el*w**2 - 2*I*pi*C_e*L*tau_I*w - 2*I*pi*C_e*L*tau_el*w - C_e*L + 2*I*pi*G_eb*L*L_I*tau_I*tau_el*w + G_eb*L_I*R_f0*tau_I*tau_el + G_eb*L_I*R_s*tau_I*tau_el)"
      ]
     },
     "execution_count": 78,
     "metadata": {},
     "output_type": "execute_result"
    }
   ],
   "source": [
    "m_inv3[0,0].simplify()"
   ]
  },
  {
   "cell_type": "code",
   "execution_count": 79,
   "id": "d16d1093-4c86-421b-ad0b-688cfc73706c",
   "metadata": {
    "tags": []
   },
   "outputs": [
    {
     "data": {
      "text/plain": [
       "'\\\\frac{- 2 i \\\\pi L \\\\tau_{I} \\\\tau_{el} w - L \\\\tau_{I}}{4 \\\\pi^{2} C_{e} L \\\\tau_{I} \\\\tau_{el} w^{2} - 2 i \\\\pi C_{e} L \\\\tau_{I} w - 2 i \\\\pi C_{e} L \\\\tau_{el} w - C_{e} L + 2 i \\\\pi G_{eb} L L_{I} \\\\tau_{I} \\\\tau_{el} w + G_{eb} L_{I} R_{f0} \\\\tau_{I} \\\\tau_{el} + G_{eb} L_{I} R_{s} \\\\tau_{I} \\\\tau_{el}}'"
      ]
     },
     "execution_count": 79,
     "metadata": {},
     "output_type": "execute_result"
    }
   ],
   "source": [
    "latex(m_inv3[0,0])"
   ]
  },
  {
   "cell_type": "markdown",
   "id": "a786591d-1bad-4748-8f5c-422804c47199",
   "metadata": {},
   "source": [
    "# Pulse shape model"
   ]
  },
  {
   "cell_type": "code",
   "execution_count": 83,
   "id": "14a5bec1-84bd-4be6-b452-11a987199103",
   "metadata": {
    "tags": []
   },
   "outputs": [],
   "source": [
    "from sympy import sqrt\n",
    "\n",
    "G_ea, G_eff, C_a, G_ab, C_e = symbols('G_ea G_eff C_a G_ab C_e')\n",
    "\n",
    "m = (G_ea + G_eff) * C_a + (G_ea + G_ab) * C_e\n",
    "m = m / (2 * C_e * C_a)\n",
    "\n",
    "p = (G_ea + G_eff) * (G_ea + G_ab) - G_ea**2\n",
    "p = p / (C_e * C_a)\n",
    "\n",
    "lambda_1 = m + sqrt(m**2 - p)\n",
    "lambda_2 = m - sqrt(m**2 - p)\n"
   ]
  },
  {
   "cell_type": "code",
   "execution_count": 84,
   "id": "d0a4b5e4-9f2e-4cb7-b22d-c97853934aaf",
   "metadata": {
    "tags": []
   },
   "outputs": [
    {
     "data": {
      "text/latex": [
       "$\\displaystyle \\sqrt{- \\frac{- G_{ea}^{2} + \\left(G_{ab} + G_{ea}\\right) \\left(G_{ea} + G_{eff}\\right)}{C_{a} C_{e}} + \\frac{\\left(C_{a} \\left(G_{ea} + G_{eff}\\right) + C_{e} \\left(G_{ab} + G_{ea}\\right)\\right)^{2}}{4 C_{a}^{2} C_{e}^{2}}} + \\frac{C_{a} \\left(G_{ea} + G_{eff}\\right) + C_{e} \\left(G_{ab} + G_{ea}\\right)}{2 C_{a} C_{e}}$"
      ],
      "text/plain": [
       "sqrt(-(-G_ea**2 + (G_ab + G_ea)*(G_ea + G_eff))/(C_a*C_e) + (C_a*(G_ea + G_eff) + C_e*(G_ab + G_ea))**2/(4*C_a**2*C_e**2)) + (C_a*(G_ea + G_eff) + C_e*(G_ab + G_ea))/(2*C_a*C_e)"
      ]
     },
     "execution_count": 84,
     "metadata": {},
     "output_type": "execute_result"
    }
   ],
   "source": [
    "lambda_1"
   ]
  },
  {
   "cell_type": "code",
   "execution_count": 85,
   "id": "f9d374bc-7b98-4552-9f2f-0b38d7f52cf9",
   "metadata": {
    "tags": []
   },
   "outputs": [
    {
     "data": {
      "text/latex": [
       "$\\displaystyle - \\sqrt{- \\frac{- G_{ea}^{2} + \\left(G_{ab} + G_{ea}\\right) \\left(G_{ea} + G_{eff}\\right)}{C_{a} C_{e}} + \\frac{\\left(C_{a} \\left(G_{ea} + G_{eff}\\right) + C_{e} \\left(G_{ab} + G_{ea}\\right)\\right)^{2}}{4 C_{a}^{2} C_{e}^{2}}} + \\frac{C_{a} \\left(G_{ea} + G_{eff}\\right) + C_{e} \\left(G_{ab} + G_{ea}\\right)}{2 C_{a} C_{e}}$"
      ],
      "text/plain": [
       "-sqrt(-(-G_ea**2 + (G_ab + G_ea)*(G_ea + G_eff))/(C_a*C_e) + (C_a*(G_ea + G_eff) + C_e*(G_ab + G_ea))**2/(4*C_a**2*C_e**2)) + (C_a*(G_ea + G_eff) + C_e*(G_ab + G_ea))/(2*C_a*C_e)"
      ]
     },
     "execution_count": 85,
     "metadata": {},
     "output_type": "execute_result"
    }
   ],
   "source": [
    "lambda_2"
   ]
  },
  {
   "cell_type": "code",
   "execution_count": 86,
   "id": "b49bd950-3140-476e-b98c-ba34822aa5ab",
   "metadata": {
    "tags": []
   },
   "outputs": [],
   "source": [
    "G_ea, G_eb, C_e, G_ab, C_a = symbols('G_ea G_eb C_e G_ab C_a')\n",
    "\n",
    "a = (G_ea + G_eb) / C_e + (G_ea + G_ab) / C_a\n",
    "b = (G_ea * G_eb + G_ea * G_ab + G_eb * G_ab) / (C_e * C_a)\n",
    "\n",
    "tau_in = 2 / (a + sqrt(a**2 - 4 * b))\n",
    "tau_t = 2 / (a - sqrt(a**2 - 4 * b))\n"
   ]
  },
  {
   "cell_type": "code",
   "execution_count": 89,
   "id": "e269b6cd-b8aa-4ea0-b52e-aaba2ada1346",
   "metadata": {
    "tags": []
   },
   "outputs": [
    {
     "data": {
      "text/latex": [
       "$\\displaystyle \\frac{\\sqrt{\\left(\\frac{G_{ea} + G_{eb}}{C_{e}} + \\frac{G_{ab} + G_{ea}}{C_{a}}\\right)^{2} - \\frac{4 \\left(G_{ab} G_{ea} + G_{ab} G_{eb} + G_{ea} G_{eb}\\right)}{C_{a} C_{e}}}}{2} + \\frac{G_{ea} + G_{eb}}{2 C_{e}} + \\frac{G_{ab} + G_{ea}}{2 C_{a}}$"
      ],
      "text/plain": [
       "sqrt(((G_ea + G_eb)/C_e + (G_ab + G_ea)/C_a)**2 - 4*(G_ab*G_ea + G_ab*G_eb + G_ea*G_eb)/(C_a*C_e))/2 + (G_ea + G_eb)/(2*C_e) + (G_ab + G_ea)/(2*C_a)"
      ]
     },
     "execution_count": 89,
     "metadata": {},
     "output_type": "execute_result"
    }
   ],
   "source": [
    "1/tau_in"
   ]
  },
  {
   "cell_type": "code",
   "execution_count": 90,
   "id": "d7ea6f5f-5077-4921-acf4-ac06c7cdbba7",
   "metadata": {
    "tags": []
   },
   "outputs": [
    {
     "data": {
      "text/latex": [
       "$\\displaystyle - \\frac{\\sqrt{\\left(\\frac{G_{ea} + G_{eb}}{C_{e}} + \\frac{G_{ab} + G_{ea}}{C_{a}}\\right)^{2} - \\frac{4 \\left(G_{ab} G_{ea} + G_{ab} G_{eb} + G_{ea} G_{eb}\\right)}{C_{a} C_{e}}}}{2} + \\frac{G_{ea} + G_{eb}}{2 C_{e}} + \\frac{G_{ab} + G_{ea}}{2 C_{a}}$"
      ],
      "text/plain": [
       "-sqrt(((G_ea + G_eb)/C_e + (G_ab + G_ea)/C_a)**2 - 4*(G_ab*G_ea + G_ab*G_eb + G_ea*G_eb)/(C_a*C_e))/2 + (G_ea + G_eb)/(2*C_e) + (G_ab + G_ea)/(2*C_a)"
      ]
     },
     "execution_count": 90,
     "metadata": {},
     "output_type": "execute_result"
    }
   ],
   "source": [
    "1/tau_t"
   ]
  },
  {
   "cell_type": "markdown",
   "id": "fa42895d-76ed-4f2a-bdb4-a1de1ec3ad33",
   "metadata": {},
   "source": [
    "# invert the matrix for pulse shape model"
   ]
  },
  {
   "cell_type": "code",
   "execution_count": 91,
   "id": "92fc2e29-e962-4216-be66-85e4b86364a5",
   "metadata": {
    "tags": []
   },
   "outputs": [],
   "source": [
    "from sympy import exp, Matrix\n",
    "\n",
    "alpha_1, alpha_2, lambda_1, lambda_2, t = symbols('alpha_1 alpha_2 lambda_1 lambda_2 t')\n",
    "\n",
    "matrix3 = Matrix([[(1 + alpha_1**(-2))**(-1/2) * exp(lambda_1 * t) * alpha_1**(-1), (1 + alpha_2**(-2))**(-1/2) * exp(lambda_2 * t) * alpha_2**(-1)],\n",
    "                  [-(1 + alpha_1**(-2))**(-1/2) * exp(lambda_1 * t), -(1 + alpha_2**(-2))**(-1/2) * exp(lambda_2 * t)]])\n"
   ]
  },
  {
   "cell_type": "code",
   "execution_count": 92,
   "id": "75a97de2-455c-44d2-a2c3-fd109ad6d9b7",
   "metadata": {
    "tags": []
   },
   "outputs": [
    {
     "data": {
      "text/latex": [
       "$\\displaystyle \\left[\\begin{matrix}\\frac{e^{\\lambda_{1} t}}{\\alpha_{1} \\left(1 + \\frac{1}{\\alpha_{1}^{2}}\\right)^{0.5}} & \\frac{e^{\\lambda_{2} t}}{\\alpha_{2} \\left(1 + \\frac{1}{\\alpha_{2}^{2}}\\right)^{0.5}}\\\\- \\frac{e^{\\lambda_{1} t}}{\\left(1 + \\frac{1}{\\alpha_{1}^{2}}\\right)^{0.5}} & - \\frac{e^{\\lambda_{2} t}}{\\left(1 + \\frac{1}{\\alpha_{2}^{2}}\\right)^{0.5}}\\end{matrix}\\right]$"
      ],
      "text/plain": [
       "Matrix([\n",
       "[exp(lambda_1*t)/(alpha_1*(1 + alpha_1**(-2))**0.5), exp(lambda_2*t)/(alpha_2*(1 + alpha_2**(-2))**0.5)],\n",
       "[         -exp(lambda_1*t)/(1 + alpha_1**(-2))**0.5,          -exp(lambda_2*t)/(1 + alpha_2**(-2))**0.5]])"
      ]
     },
     "execution_count": 92,
     "metadata": {},
     "output_type": "execute_result"
    }
   ],
   "source": [
    "matrix3"
   ]
  },
  {
   "cell_type": "code",
   "execution_count": 93,
   "id": "bbd88a16-7d4f-48b8-928f-483f016f9575",
   "metadata": {
    "tags": []
   },
   "outputs": [
    {
     "data": {
      "text/latex": [
       "$\\displaystyle \\left[\\begin{matrix}- \\frac{\\alpha_{1} \\alpha_{2} \\left(1 + \\frac{1}{\\alpha_{1}^{2}}\\right)^{0.5} e^{\\lambda_{1} t}}{\\alpha_{1} e^{2 \\lambda_{1} t} - \\alpha_{2} e^{2 \\lambda_{1} t}} & - \\frac{\\alpha_{1} \\left(1 + \\frac{1}{\\alpha_{1}^{2}}\\right)^{0.5} e^{\\lambda_{1} t}}{\\alpha_{1} e^{2 \\lambda_{1} t} - \\alpha_{2} e^{2 \\lambda_{1} t}}\\\\\\frac{\\alpha_{1} \\alpha_{2} \\left(1 + \\frac{1}{\\alpha_{2}^{2}}\\right)^{0.5}}{\\alpha_{1} e^{\\lambda_{2} t} - \\alpha_{2} e^{\\lambda_{2} t}} & \\frac{\\alpha_{2} \\left(1 + \\frac{1}{\\alpha_{2}^{2}}\\right)^{0.5}}{\\alpha_{1} e^{\\lambda_{2} t} - \\alpha_{2} e^{\\lambda_{2} t}}\\end{matrix}\\right]$"
      ],
      "text/plain": [
       "Matrix([\n",
       "[-alpha_1*alpha_2*(1 + alpha_1**(-2))**0.5*exp(lambda_1*t)/(alpha_1*exp(2*lambda_1*t) - alpha_2*exp(2*lambda_1*t)), -alpha_1*(1 + alpha_1**(-2))**0.5*exp(lambda_1*t)/(alpha_1*exp(2*lambda_1*t) - alpha_2*exp(2*lambda_1*t))],\n",
       "[                     alpha_1*alpha_2*(1 + alpha_2**(-2))**0.5/(alpha_1*exp(lambda_2*t) - alpha_2*exp(lambda_2*t)),                      alpha_2*(1 + alpha_2**(-2))**0.5/(alpha_1*exp(lambda_2*t) - alpha_2*exp(lambda_2*t))]])"
      ]
     },
     "execution_count": 93,
     "metadata": {},
     "output_type": "execute_result"
    }
   ],
   "source": [
    "matrix3.inv()"
   ]
  },
  {
   "cell_type": "code",
   "execution_count": 95,
   "id": "800cf4d1-99db-41c5-a864-c919344ff12f",
   "metadata": {
    "tags": []
   },
   "outputs": [
    {
     "data": {
      "text/plain": [
       "'\\\\left[\\\\begin{matrix}- \\\\frac{\\\\alpha_{1} \\\\alpha_{2} \\\\left(1 + \\\\frac{1}{\\\\alpha_{1}^{2}}\\\\right)^{0.5} e^{\\\\lambda_{1} t}}{\\\\alpha_{1} e^{2 \\\\lambda_{1} t} - \\\\alpha_{2} e^{2 \\\\lambda_{1} t}} & - \\\\frac{\\\\alpha_{1} \\\\left(1 + \\\\frac{1}{\\\\alpha_{1}^{2}}\\\\right)^{0.5} e^{\\\\lambda_{1} t}}{\\\\alpha_{1} e^{2 \\\\lambda_{1} t} - \\\\alpha_{2} e^{2 \\\\lambda_{1} t}}\\\\\\\\\\\\frac{\\\\alpha_{1} \\\\alpha_{2} \\\\left(1 + \\\\frac{1}{\\\\alpha_{2}^{2}}\\\\right)^{0.5}}{\\\\alpha_{1} e^{\\\\lambda_{2} t} - \\\\alpha_{2} e^{\\\\lambda_{2} t}} & \\\\frac{\\\\alpha_{2} \\\\left(1 + \\\\frac{1}{\\\\alpha_{2}^{2}}\\\\right)^{0.5}}{\\\\alpha_{1} e^{\\\\lambda_{2} t} - \\\\alpha_{2} e^{\\\\lambda_{2} t}}\\\\end{matrix}\\\\right]'"
      ]
     },
     "execution_count": 95,
     "metadata": {},
     "output_type": "execute_result"
    }
   ],
   "source": [
    "latex(matrix3.inv())"
   ]
  },
  {
   "cell_type": "markdown",
   "id": "6070a766-f2bc-424b-88f8-789157b69fd8",
   "metadata": {},
   "source": [
    "# Check if Franz formula is same with mine"
   ]
  },
  {
   "cell_type": "code",
   "execution_count": 111,
   "id": "35971bcb-857b-49a0-8613-c6188e52ee7e",
   "metadata": {
    "tags": []
   },
   "outputs": [],
   "source": [
    "from sympy import symbols, sqrt, simplify\n",
    "\n",
    "Delta_E, s_n, G_ea, G_eff, C_e, C_a, epsilon, G_ab = symbols('Delta_E s_n G_ea G_eff C_e C_a epsilon G_ab')\n"
   ]
  },
  {
   "cell_type": "code",
   "execution_count": 112,
   "id": "37da9c7a-2210-4bbc-8e03-3c3f0d07b5b4",
   "metadata": {
    "tags": []
   },
   "outputs": [],
   "source": [
    "G_eb = G_eff\n",
    "P_0 = epsilon * Delta_E * s_n\n",
    "\n",
    "a = (G_ea + G_eb) / C_e + (G_ea + G_ab) / C_a\n",
    "b = (G_ea * G_eb + G_ea * G_ab + G_eb * G_ab) / (C_e * C_a)\n",
    "\n",
    "s_t = (a - sqrt(a**2 - 4*b)) / 2\n",
    "s_t = (a + sqrt(a**2 - 4*b)) / 2\n",
    "\n",
    "A_n = (Delta_E * s_n / (s_in - s_n)) * ((G_ea + G_eff) / C_e + s_t) / (s_in - s_t) * (((epsilon - 1) / C_a / (1 + (G_eff / G_ea) + s_t * (C_e / G_ea))) - epsilon / C_e)\n",
    "\n",
    "A_n_franz = (P_0 * (s_in - (G_ab / C_a))) / (epsilon * (s_in - s_t) * (s_in - s_n)) * ((s_t - (G_ab / C_a)) / (G_eb - (C_e / C_a) * G_ab) - epsilon / C_e)\n"
   ]
  },
  {
   "cell_type": "code",
   "execution_count": 113,
   "id": "4945cf20-d92b-4b3c-8a64-7856c9f36ecb",
   "metadata": {
    "tags": []
   },
   "outputs": [],
   "source": [
    "difference = A_n - A_n_franz\n",
    "difference = simplify(difference)\n"
   ]
  },
  {
   "cell_type": "code",
   "execution_count": 114,
   "id": "e6b3b25f-6a98-4115-9189-19f4a248ff42",
   "metadata": {
    "tags": []
   },
   "outputs": [
    {
     "data": {
      "text/latex": [
       "$\\displaystyle \\frac{\\Delta_{E} s_{n} \\left(C_{e} \\left(C_{a} s_{in} - G_{ab}\\right) \\left(C_{a} C_{e} \\sqrt{\\frac{- 4 C_{a} C_{e} \\left(G_{ab} G_{ea} + G_{ab} G_{eff} + G_{ea} G_{eff}\\right) + \\left(C_{a} \\left(G_{ea} + G_{eff}\\right) + C_{e} \\left(G_{ab} + G_{ea}\\right)\\right)^{2}}{C_{a}^{2} C_{e}^{2}}} + C_{a} \\left(G_{ea} + G_{eff}\\right) + C_{e} \\left(- G_{ab} + G_{ea}\\right) - 2 \\epsilon \\left(C_{a} G_{eff} - C_{e} G_{ab}\\right)\\right) \\left(C_{a} C_{e} \\sqrt{\\frac{- 4 C_{a} C_{e} \\left(G_{ab} G_{ea} + G_{ab} G_{eff} + G_{ea} G_{eff}\\right) + \\left(C_{a} \\left(G_{ea} + G_{eff}\\right) + C_{e} \\left(G_{ab} + G_{ea}\\right)\\right)^{2}}{C_{a}^{2} C_{e}^{2}}} + 2 C_{a} G_{ea} + 2 C_{a} G_{eff} + C_{a} \\left(G_{ea} + G_{eff}\\right) + C_{e} \\left(G_{ab} + G_{ea}\\right)\\right) + \\left(C_{a} G_{eff} - C_{e} G_{ab}\\right) \\left(- 2 C_{e} G_{ea} \\left(\\epsilon - 1\\right) + \\epsilon \\left(C_{a} C_{e} \\sqrt{\\frac{- 4 C_{a} C_{e} \\left(G_{ab} G_{ea} + G_{ab} G_{eff} + G_{ea} G_{eff}\\right) + \\left(C_{a} \\left(G_{ea} + G_{eff}\\right) + C_{e} \\left(G_{ab} + G_{ea}\\right)\\right)^{2}}{C_{a}^{2} C_{e}^{2}}} + 2 C_{a} G_{ea} + 2 C_{a} G_{eff} + C_{a} \\left(G_{ea} + G_{eff}\\right) + C_{e} \\left(G_{ab} + G_{ea}\\right)\\right)\\right) \\left(C_{a} C_{e} \\sqrt{\\frac{- 4 C_{a} C_{e} \\left(G_{ab} G_{ea} + G_{ab} G_{eff} + G_{ea} G_{eff}\\right) + \\left(C_{a} \\left(G_{ea} + G_{eff}\\right) + C_{e} \\left(G_{ab} + G_{ea}\\right)\\right)^{2}}{C_{a}^{2} C_{e}^{2}}} + 3 C_{a} \\left(G_{ea} + G_{eff}\\right) + C_{e} \\left(G_{ab} + G_{ea}\\right)\\right)\\right)}{C_{e} \\left(s_{in} - s_{n}\\right) \\left(C_{a} G_{eff} - C_{e} G_{ab}\\right) \\left(C_{a} C_{e} \\left(- 2 s_{in} + \\sqrt{\\frac{- 4 C_{a} C_{e} \\left(G_{ab} G_{ea} + G_{ab} G_{eff} + G_{ea} G_{eff}\\right) + \\left(C_{a} \\left(G_{ea} + G_{eff}\\right) + C_{e} \\left(G_{ab} + G_{ea}\\right)\\right)^{2}}{C_{a}^{2} C_{e}^{2}}}\\right) + C_{a} \\left(G_{ea} + G_{eff}\\right) + C_{e} \\left(G_{ab} + G_{ea}\\right)\\right) \\left(C_{a} C_{e} \\sqrt{\\frac{- 4 C_{a} C_{e} \\left(G_{ab} G_{ea} + G_{ab} G_{eff} + G_{ea} G_{eff}\\right) + \\left(C_{a} \\left(G_{ea} + G_{eff}\\right) + C_{e} \\left(G_{ab} + G_{ea}\\right)\\right)^{2}}{C_{a}^{2} C_{e}^{2}}} + 2 C_{a} G_{ea} + 2 C_{a} G_{eff} + C_{a} \\left(G_{ea} + G_{eff}\\right) + C_{e} \\left(G_{ab} + G_{ea}\\right)\\right)}$"
      ],
      "text/plain": [
       "Delta_E*s_n*(C_e*(C_a*s_in - G_ab)*(C_a*C_e*sqrt((-4*C_a*C_e*(G_ab*G_ea + G_ab*G_eff + G_ea*G_eff) + (C_a*(G_ea + G_eff) + C_e*(G_ab + G_ea))**2)/(C_a**2*C_e**2)) + C_a*(G_ea + G_eff) + C_e*(-G_ab + G_ea) - 2*epsilon*(C_a*G_eff - C_e*G_ab))*(C_a*C_e*sqrt((-4*C_a*C_e*(G_ab*G_ea + G_ab*G_eff + G_ea*G_eff) + (C_a*(G_ea + G_eff) + C_e*(G_ab + G_ea))**2)/(C_a**2*C_e**2)) + 2*C_a*G_ea + 2*C_a*G_eff + C_a*(G_ea + G_eff) + C_e*(G_ab + G_ea)) + (C_a*G_eff - C_e*G_ab)*(-2*C_e*G_ea*(epsilon - 1) + epsilon*(C_a*C_e*sqrt((-4*C_a*C_e*(G_ab*G_ea + G_ab*G_eff + G_ea*G_eff) + (C_a*(G_ea + G_eff) + C_e*(G_ab + G_ea))**2)/(C_a**2*C_e**2)) + 2*C_a*G_ea + 2*C_a*G_eff + C_a*(G_ea + G_eff) + C_e*(G_ab + G_ea)))*(C_a*C_e*sqrt((-4*C_a*C_e*(G_ab*G_ea + G_ab*G_eff + G_ea*G_eff) + (C_a*(G_ea + G_eff) + C_e*(G_ab + G_ea))**2)/(C_a**2*C_e**2)) + 3*C_a*(G_ea + G_eff) + C_e*(G_ab + G_ea)))/(C_e*(s_in - s_n)*(C_a*G_eff - C_e*G_ab)*(C_a*C_e*(-2*s_in + sqrt((-4*C_a*C_e*(G_ab*G_ea + G_ab*G_eff + G_ea*G_eff) + (C_a*(G_ea + G_eff) + C_e*(G_ab + G_ea))**2)/(C_a**2*C_e**2))) + C_a*(G_ea + G_eff) + C_e*(G_ab + G_ea))*(C_a*C_e*sqrt((-4*C_a*C_e*(G_ab*G_ea + G_ab*G_eff + G_ea*G_eff) + (C_a*(G_ea + G_eff) + C_e*(G_ab + G_ea))**2)/(C_a**2*C_e**2)) + 2*C_a*G_ea + 2*C_a*G_eff + C_a*(G_ea + G_eff) + C_e*(G_ab + G_ea)))"
      ]
     },
     "execution_count": 114,
     "metadata": {},
     "output_type": "execute_result"
    }
   ],
   "source": [
    "difference"
   ]
  },
  {
   "cell_type": "markdown",
   "id": "dbb36690-93a7-42eb-97ae-549a579071d2",
   "metadata": {},
   "source": [
    "# Check again the calculation of EW and EV and solution"
   ]
  },
  {
   "cell_type": "code",
   "execution_count": 13,
   "id": "d3e99743-3c17-4ad3-a6e8-7e02e3317b93",
   "metadata": {
    "tags": []
   },
   "outputs": [],
   "source": [
    "from sympy import Matrix, symbols, exp,sqrt"
   ]
  },
  {
   "cell_type": "code",
   "execution_count": null,
   "id": "c910c519-7596-40a9-9c04-8494d98431b6",
   "metadata": {},
   "outputs": [],
   "source": [
    "G_ea, G_eff, G_ab, C_e, C_a, t, alpha_1, alpha_2, lambda_1, lambda_2 = symbols('G_ea G_eff G_ab C_e C_a t alpha_1 alpha_2 lambda_1 lambda_2')\n",
    "\n",
    "matrix = - Matrix([\n",
    "    [(G_ea + G_eff) / C_e, -G_ea / C_e],\n",
    "    [-G_ea / C_a, (G_ea + G_ab) / C_a]\n",
    "])\n",
    "\n",
    "matrix\n"
   ]
  },
  {
   "cell_type": "code",
   "execution_count": 2,
   "id": "2730b1dd-56ee-494a-8a86-9a0947b77b35",
   "metadata": {
    "tags": []
   },
   "outputs": [],
   "source": [
    "eigenvalues = matrix.eigenvals()"
   ]
  },
  {
   "cell_type": "code",
   "execution_count": 3,
   "id": "d62cb4fe-3b8d-4a09-8648-923a9368d7c3",
   "metadata": {
    "tags": []
   },
   "outputs": [],
   "source": [
    "eigenvectors = matrix.eigenvects()"
   ]
  },
  {
   "cell_type": "code",
   "execution_count": 4,
   "id": "446b1434-64fd-496c-963d-16c675df95a8",
   "metadata": {
    "tags": []
   },
   "outputs": [],
   "source": [
    "ew_1 = list(eigenvalues.keys())[0]"
   ]
  },
  {
   "cell_type": "code",
   "execution_count": 5,
   "id": "6f246525-b98a-4485-a1b3-d95610256f7f",
   "metadata": {
    "tags": []
   },
   "outputs": [],
   "source": [
    "ew_2 = list(eigenvalues.keys())[1]"
   ]
  },
  {
   "cell_type": "code",
   "execution_count": 6,
   "id": "548c5e8f-229a-4822-8cc6-24bb4f180c00",
   "metadata": {
    "tags": []
   },
   "outputs": [],
   "source": [
    "ev_1 = eigenvectors[0][2][0]"
   ]
  },
  {
   "cell_type": "code",
   "execution_count": 7,
   "id": "f5eb8f28-26a6-4085-91d8-bfa5279faae2",
   "metadata": {
    "tags": []
   },
   "outputs": [],
   "source": [
    "ev_2 = eigenvectors[1][2][0]"
   ]
  },
  {
   "cell_type": "code",
   "execution_count": 8,
   "id": "823cb1ef-9c0b-4011-be01-4212ecb02492",
   "metadata": {
    "tags": []
   },
   "outputs": [],
   "source": [
    "ev_1n = ev_1/ev_1.norm()"
   ]
  },
  {
   "cell_type": "code",
   "execution_count": 9,
   "id": "a5a2b42a-0537-4194-8dff-d393b8568feb",
   "metadata": {
    "tags": []
   },
   "outputs": [],
   "source": [
    "ev_2n = ev_2/ev_2.norm()"
   ]
  },
  {
   "cell_type": "code",
   "execution_count": 14,
   "id": "1a25c9c2-3076-47dc-9a48-876697b09000",
   "metadata": {
    "tags": []
   },
   "outputs": [],
   "source": [
    "alpha_1 = 1 + G_ab / G_ea + lambda_1 * C_a / G_ea\n",
    "alpha_2 = 1 + G_ab / G_ea + lambda_2 * C_a / G_ea"
   ]
  },
  {
   "cell_type": "code",
   "execution_count": 16,
   "id": "4a013be7-4af5-4dd6-9a76-dc38ba0de79e",
   "metadata": {
    "tags": []
   },
   "outputs": [],
   "source": [
    "X = Matrix([\n",
    "    [exp(lambda_1*t)*alpha_1/sqrt(alpha_1**2 + 1), exp(lambda_2*t)*alpha_2/sqrt(alpha_2**2 + 1)],\n",
    "    [exp(lambda_1*t)/sqrt(alpha_1**2 + 1), exp(lambda_2*t)/sqrt(alpha_2**2 + 1)],\n",
    "])"
   ]
  },
  {
   "cell_type": "code",
   "execution_count": 17,
   "id": "508eedaf-05ea-4ae1-921c-70c0c3d3ba7f",
   "metadata": {
    "tags": []
   },
   "outputs": [],
   "source": [
    "X_inv = X.inv()"
   ]
  },
  {
   "cell_type": "code",
   "execution_count": 18,
   "id": "fb1effcc-addf-43b1-95e0-4698f7a85eed",
   "metadata": {
    "tags": []
   },
   "outputs": [
    {
     "data": {
      "text/latex": [
       "$\\displaystyle \\left[\\begin{matrix}\\frac{C_{a}^{2} \\lambda_{1}^{2} e^{\\lambda_{1} t} + 2 C_{a} G_{ab} \\lambda_{1} e^{\\lambda_{1} t} + 2 C_{a} G_{ea} \\lambda_{1} e^{\\lambda_{1} t} + G_{ab}^{2} e^{\\lambda_{1} t} + 2 G_{ab} G_{ea} e^{\\lambda_{1} t} + 2 G_{ea}^{2} e^{\\lambda_{1} t}}{C_{a} G_{ea} \\lambda_{1} \\sqrt{\\frac{C_{a}^{2} \\lambda_{1}^{2}}{G_{ea}^{2}} + \\frac{2 C_{a} G_{ab} \\lambda_{1}}{G_{ea}^{2}} + \\frac{2 C_{a} \\lambda_{1}}{G_{ea}} + \\frac{G_{ab}^{2}}{G_{ea}^{2}} + \\frac{2 G_{ab}}{G_{ea}} + 2} e^{2 \\lambda_{1} t} - C_{a} G_{ea} \\lambda_{2} \\sqrt{\\frac{C_{a}^{2} \\lambda_{1}^{2}}{G_{ea}^{2}} + \\frac{2 C_{a} G_{ab} \\lambda_{1}}{G_{ea}^{2}} + \\frac{2 C_{a} \\lambda_{1}}{G_{ea}} + \\frac{G_{ab}^{2}}{G_{ea}^{2}} + \\frac{2 G_{ab}}{G_{ea}} + 2} e^{2 \\lambda_{1} t}} & \\frac{- C_{a}^{3} \\lambda_{1}^{2} \\lambda_{2} e^{\\lambda_{1} t} - C_{a}^{2} G_{ab} \\lambda_{1}^{2} e^{\\lambda_{1} t} - 2 C_{a}^{2} G_{ab} \\lambda_{1} \\lambda_{2} e^{\\lambda_{1} t} - C_{a}^{2} G_{ea} \\lambda_{1}^{2} e^{\\lambda_{1} t} - 2 C_{a}^{2} G_{ea} \\lambda_{1} \\lambda_{2} e^{\\lambda_{1} t} - 2 C_{a} G_{ab}^{2} \\lambda_{1} e^{\\lambda_{1} t} - C_{a} G_{ab}^{2} \\lambda_{2} e^{\\lambda_{1} t} - 4 C_{a} G_{ab} G_{ea} \\lambda_{1} e^{\\lambda_{1} t} - 2 C_{a} G_{ab} G_{ea} \\lambda_{2} e^{\\lambda_{1} t} - 2 C_{a} G_{ea}^{2} \\lambda_{1} e^{\\lambda_{1} t} - 2 C_{a} G_{ea}^{2} \\lambda_{2} e^{\\lambda_{1} t} - G_{ab}^{3} e^{\\lambda_{1} t} - 3 G_{ab}^{2} G_{ea} e^{\\lambda_{1} t} - 4 G_{ab} G_{ea}^{2} e^{\\lambda_{1} t} - 2 G_{ea}^{3} e^{\\lambda_{1} t}}{C_{a} G_{ea}^{2} \\lambda_{1} \\sqrt{\\frac{C_{a}^{2} \\lambda_{1}^{2}}{G_{ea}^{2}} + \\frac{2 C_{a} G_{ab} \\lambda_{1}}{G_{ea}^{2}} + \\frac{2 C_{a} \\lambda_{1}}{G_{ea}} + \\frac{G_{ab}^{2}}{G_{ea}^{2}} + \\frac{2 G_{ab}}{G_{ea}} + 2} e^{2 \\lambda_{1} t} - C_{a} G_{ea}^{2} \\lambda_{2} \\sqrt{\\frac{C_{a}^{2} \\lambda_{1}^{2}}{G_{ea}^{2}} + \\frac{2 C_{a} G_{ab} \\lambda_{1}}{G_{ea}^{2}} + \\frac{2 C_{a} \\lambda_{1}}{G_{ea}} + \\frac{G_{ab}^{2}}{G_{ea}^{2}} + \\frac{2 G_{ab}}{G_{ea}} + 2} e^{2 \\lambda_{1} t}}\\\\- \\frac{G_{ea} \\sqrt{\\frac{C_{a}^{2} \\lambda_{2}^{2}}{G_{ea}^{2}} + \\frac{2 C_{a} G_{ab} \\lambda_{2}}{G_{ea}^{2}} + \\frac{2 C_{a} \\lambda_{2}}{G_{ea}} + \\frac{G_{ab}^{2}}{G_{ea}^{2}} + \\frac{2 G_{ab}}{G_{ea}} + 2}}{C_{a} \\lambda_{1} e^{\\lambda_{2} t} - C_{a} \\lambda_{2} e^{\\lambda_{2} t}} & \\frac{C_{a} \\lambda_{1} \\sqrt{\\frac{C_{a}^{2} \\lambda_{2}^{2}}{G_{ea}^{2}} + \\frac{2 C_{a} G_{ab} \\lambda_{2}}{G_{ea}^{2}} + \\frac{2 C_{a} \\lambda_{2}}{G_{ea}} + \\frac{G_{ab}^{2}}{G_{ea}^{2}} + \\frac{2 G_{ab}}{G_{ea}} + 2} + G_{ab} \\sqrt{\\frac{C_{a}^{2} \\lambda_{2}^{2}}{G_{ea}^{2}} + \\frac{2 C_{a} G_{ab} \\lambda_{2}}{G_{ea}^{2}} + \\frac{2 C_{a} \\lambda_{2}}{G_{ea}} + \\frac{G_{ab}^{2}}{G_{ea}^{2}} + \\frac{2 G_{ab}}{G_{ea}} + 2} + G_{ea} \\sqrt{\\frac{C_{a}^{2} \\lambda_{2}^{2}}{G_{ea}^{2}} + \\frac{2 C_{a} G_{ab} \\lambda_{2}}{G_{ea}^{2}} + \\frac{2 C_{a} \\lambda_{2}}{G_{ea}} + \\frac{G_{ab}^{2}}{G_{ea}^{2}} + \\frac{2 G_{ab}}{G_{ea}} + 2}}{C_{a} \\lambda_{1} e^{\\lambda_{2} t} - C_{a} \\lambda_{2} e^{\\lambda_{2} t}}\\end{matrix}\\right]$"
      ],
      "text/plain": [
       "Matrix([\n",
       "[(C_a**2*lambda_1**2*exp(lambda_1*t) + 2*C_a*G_ab*lambda_1*exp(lambda_1*t) + 2*C_a*G_ea*lambda_1*exp(lambda_1*t) + G_ab**2*exp(lambda_1*t) + 2*G_ab*G_ea*exp(lambda_1*t) + 2*G_ea**2*exp(lambda_1*t))/(C_a*G_ea*lambda_1*sqrt(C_a**2*lambda_1**2/G_ea**2 + 2*C_a*G_ab*lambda_1/G_ea**2 + 2*C_a*lambda_1/G_ea + G_ab**2/G_ea**2 + 2*G_ab/G_ea + 2)*exp(2*lambda_1*t) - C_a*G_ea*lambda_2*sqrt(C_a**2*lambda_1**2/G_ea**2 + 2*C_a*G_ab*lambda_1/G_ea**2 + 2*C_a*lambda_1/G_ea + G_ab**2/G_ea**2 + 2*G_ab/G_ea + 2)*exp(2*lambda_1*t)), (-C_a**3*lambda_1**2*lambda_2*exp(lambda_1*t) - C_a**2*G_ab*lambda_1**2*exp(lambda_1*t) - 2*C_a**2*G_ab*lambda_1*lambda_2*exp(lambda_1*t) - C_a**2*G_ea*lambda_1**2*exp(lambda_1*t) - 2*C_a**2*G_ea*lambda_1*lambda_2*exp(lambda_1*t) - 2*C_a*G_ab**2*lambda_1*exp(lambda_1*t) - C_a*G_ab**2*lambda_2*exp(lambda_1*t) - 4*C_a*G_ab*G_ea*lambda_1*exp(lambda_1*t) - 2*C_a*G_ab*G_ea*lambda_2*exp(lambda_1*t) - 2*C_a*G_ea**2*lambda_1*exp(lambda_1*t) - 2*C_a*G_ea**2*lambda_2*exp(lambda_1*t) - G_ab**3*exp(lambda_1*t) - 3*G_ab**2*G_ea*exp(lambda_1*t) - 4*G_ab*G_ea**2*exp(lambda_1*t) - 2*G_ea**3*exp(lambda_1*t))/(C_a*G_ea**2*lambda_1*sqrt(C_a**2*lambda_1**2/G_ea**2 + 2*C_a*G_ab*lambda_1/G_ea**2 + 2*C_a*lambda_1/G_ea + G_ab**2/G_ea**2 + 2*G_ab/G_ea + 2)*exp(2*lambda_1*t) - C_a*G_ea**2*lambda_2*sqrt(C_a**2*lambda_1**2/G_ea**2 + 2*C_a*G_ab*lambda_1/G_ea**2 + 2*C_a*lambda_1/G_ea + G_ab**2/G_ea**2 + 2*G_ab/G_ea + 2)*exp(2*lambda_1*t))],\n",
       "[                                                                                                                                                                                                                                                                                                                                      -G_ea*sqrt(C_a**2*lambda_2**2/G_ea**2 + 2*C_a*G_ab*lambda_2/G_ea**2 + 2*C_a*lambda_2/G_ea + G_ab**2/G_ea**2 + 2*G_ab/G_ea + 2)/(C_a*lambda_1*exp(lambda_2*t) - C_a*lambda_2*exp(lambda_2*t)),                                                                                                                                                                                                                                                                                                                                                                                                                                                                                      (C_a*lambda_1*sqrt(C_a**2*lambda_2**2/G_ea**2 + 2*C_a*G_ab*lambda_2/G_ea**2 + 2*C_a*lambda_2/G_ea + G_ab**2/G_ea**2 + 2*G_ab/G_ea + 2) + G_ab*sqrt(C_a**2*lambda_2**2/G_ea**2 + 2*C_a*G_ab*lambda_2/G_ea**2 + 2*C_a*lambda_2/G_ea + G_ab**2/G_ea**2 + 2*G_ab/G_ea + 2) + G_ea*sqrt(C_a**2*lambda_2**2/G_ea**2 + 2*C_a*G_ab*lambda_2/G_ea**2 + 2*C_a*lambda_2/G_ea + G_ab**2/G_ea**2 + 2*G_ab/G_ea + 2))/(C_a*lambda_1*exp(lambda_2*t) - C_a*lambda_2*exp(lambda_2*t))]])"
      ]
     },
     "execution_count": 18,
     "metadata": {},
     "output_type": "execute_result"
    }
   ],
   "source": [
    "X_inv"
   ]
  },
  {
   "cell_type": "code",
   "execution_count": null,
   "id": "55be444a-77c0-4de4-bb49-08d2b054c2e9",
   "metadata": {},
   "outputs": [],
   "source": []
  }
 ],
 "metadata": {
  "kernelspec": {
   "display_name": "Python 3 (ipykernel)",
   "language": "python",
   "name": "python3"
  },
  "language_info": {
   "codemirror_mode": {
    "name": "ipython",
    "version": 3
   },
   "file_extension": ".py",
   "mimetype": "text/x-python",
   "name": "python",
   "nbconvert_exporter": "python",
   "pygments_lexer": "ipython3",
   "version": "3.10.10"
  }
 },
 "nbformat": 4,
 "nbformat_minor": 5
}
