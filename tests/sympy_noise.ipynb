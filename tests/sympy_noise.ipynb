{
 "cells": [
  {
   "cell_type": "code",
   "execution_count": 39,
   "id": "9c17f169-9644-4146-b5a5-d09663ec7428",
   "metadata": {
    "tags": []
   },
   "outputs": [],
   "source": [
    "import numpy as np\n",
    "import sympy as sp\n",
    "from sympy import I, print_latex, collect"
   ]
  },
  {
   "cell_type": "markdown",
   "id": "d2c8df7c-daef-4fe1-b4d4-10bc8cbe455f",
   "metadata": {},
   "source": [
    "# Invert the matrix"
   ]
  },
  {
   "cell_type": "code",
   "execution_count": 21,
   "id": "96fcd87b-f25e-46de-baa3-1297e60c7985",
   "metadata": {
    "tags": []
   },
   "outputs": [],
   "source": [
    "# Define the variables\n",
    "G_eff, w, C_e, R_f0, I_f0, dR_f_dT_e, T_e0, R_s, L, dR_f_dT_e, I_0 = sp.symbols('G_eff w C_e R_f0 I_f0 dR_f_dT_e T_e0 R_s L dR_f_dT_e I_0', real=True)"
   ]
  },
  {
   "cell_type": "code",
   "execution_count": 13,
   "id": "b2e43b38-c6e5-4d3e-8341-03dca92e96f1",
   "metadata": {
    "tags": []
   },
   "outputs": [
    {
     "data": {
      "text/latex": [
       "$\\displaystyle \\left[\\begin{matrix}2 i \\pi C_{e} w + G_{eff} & - 2 I_{f0} R_{f0}\\\\I_{f0} dR_{f dT e} & - 2 i \\pi L w + R_{f0} + R_{s}\\end{matrix}\\right]$"
      ],
      "text/plain": [
       "Matrix([\n",
       "[2*I*pi*C_e*w + G_eff,             -2*I_f0*R_f0],\n",
       "[      I_f0*dR_f_dT_e, -2*I*pi*L*w + R_f0 + R_s]])"
      ]
     },
     "execution_count": 13,
     "metadata": {},
     "output_type": "execute_result"
    }
   ],
   "source": [
    "# Define the matrix\n",
    "A = sp.Matrix([[G_eff + 2 * sp.pi * w * I * C_e, -2 * R_f0 * I_f0],\n",
    "               [I_f0 * dR_f_dT_e, R_f0 + R_s - 2 * sp.pi * w * I * L]])\n",
    "A"
   ]
  },
  {
   "cell_type": "code",
   "execution_count": 26,
   "id": "b757fb77-54bc-473b-ac98-c0f09c405919",
   "metadata": {
    "tags": []
   },
   "outputs": [],
   "source": [
    "# Find the inverse of the matrix\n",
    "A_inv = A.inv()\n",
    "\n",
    "# Simplify the result\n",
    "A_inv.simplify()"
   ]
  },
  {
   "cell_type": "code",
   "execution_count": 33,
   "id": "5d851c77-5b30-41a3-a787-1646febbdaba",
   "metadata": {
    "tags": []
   },
   "outputs": [
    {
     "data": {
      "text/latex": [
       "$\\displaystyle \\left[\\begin{matrix}\\frac{- 2 i \\pi L w + R_{f0} + R_{s}}{4 \\pi^{2} C_{e} L w^{2} + 2 i \\pi C_{e} R_{f0} w + 2 i \\pi C_{e} R_{s} w - 2 i \\pi G_{eff} L w + G_{eff} R_{f0} + G_{eff} R_{s} + 2 I_{f0}^{2} R_{f0} dR_{f dT e}} & \\frac{2 I_{f0} R_{f0}}{4 \\pi^{2} C_{e} L w^{2} + 2 i \\pi C_{e} R_{f0} w + 2 i \\pi C_{e} R_{s} w - 2 i \\pi G_{eff} L w + G_{eff} R_{f0} + G_{eff} R_{s} + 2 I_{f0}^{2} R_{f0} dR_{f dT e}}\\\\- \\frac{I_{f0} dR_{f dT e}}{4 \\pi^{2} C_{e} L w^{2} + 2 i \\pi C_{e} R_{f0} w + 2 i \\pi C_{e} R_{s} w - 2 i \\pi G_{eff} L w + G_{eff} R_{f0} + G_{eff} R_{s} + 2 I_{f0}^{2} R_{f0} dR_{f dT e}} & \\frac{2 i \\pi C_{e} w + G_{eff}}{4 \\pi^{2} C_{e} L w^{2} + 2 i \\pi C_{e} R_{f0} w + 2 i \\pi C_{e} R_{s} w - 2 i \\pi G_{eff} L w + G_{eff} R_{f0} + G_{eff} R_{s} + 2 I_{f0}^{2} R_{f0} dR_{f dT e}}\\end{matrix}\\right]$"
      ],
      "text/plain": [
       "Matrix([\n",
       "[(-2*I*pi*L*w + R_f0 + R_s)/(4*pi**2*C_e*L*w**2 + 2*I*pi*C_e*R_f0*w + 2*I*pi*C_e*R_s*w - 2*I*pi*G_eff*L*w + G_eff*R_f0 + G_eff*R_s + 2*I_f0**2*R_f0*dR_f_dT_e),            2*I_f0*R_f0/(4*pi**2*C_e*L*w**2 + 2*I*pi*C_e*R_f0*w + 2*I*pi*C_e*R_s*w - 2*I*pi*G_eff*L*w + G_eff*R_f0 + G_eff*R_s + 2*I_f0**2*R_f0*dR_f_dT_e)],\n",
       "[           -I_f0*dR_f_dT_e/(4*pi**2*C_e*L*w**2 + 2*I*pi*C_e*R_f0*w + 2*I*pi*C_e*R_s*w - 2*I*pi*G_eff*L*w + G_eff*R_f0 + G_eff*R_s + 2*I_f0**2*R_f0*dR_f_dT_e), (2*I*pi*C_e*w + G_eff)/(4*pi**2*C_e*L*w**2 + 2*I*pi*C_e*R_f0*w + 2*I*pi*C_e*R_s*w - 2*I*pi*G_eff*L*w + G_eff*R_f0 + G_eff*R_s + 2*I_f0**2*R_f0*dR_f_dT_e)]])"
      ]
     },
     "execution_count": 33,
     "metadata": {},
     "output_type": "execute_result"
    }
   ],
   "source": [
    "A_inv"
   ]
  },
  {
   "cell_type": "code",
   "execution_count": 34,
   "id": "9cf20966-b772-4735-8d13-7267e8f9359b",
   "metadata": {
    "tags": []
   },
   "outputs": [
    {
     "data": {
      "text/latex": [
       "$\\displaystyle \\frac{1}{4 \\pi^{2} C_{e} L w^{2} + 2 i \\pi C_{e} R_{f0} w + 2 i \\pi C_{e} R_{s} w - 2 i \\pi G_{eff} L w + G_{eff} R_{f0} + G_{eff} R_{s} + 2 I_{f0}^{2} R_{f0} dR_{f dT e}}$"
      ],
      "text/plain": [
       "1/(4*pi**2*C_e*L*w**2 + 2*I*pi*C_e*R_f0*w + 2*I*pi*C_e*R_s*w - 2*I*pi*G_eff*L*w + G_eff*R_f0 + G_eff*R_s + 2*I_f0**2*R_f0*dR_f_dT_e)"
      ]
     },
     "execution_count": 34,
     "metadata": {},
     "output_type": "execute_result"
    }
   ],
   "source": [
    "xi = A_inv[0,1]/(2*I_f0*R_f0)\n",
    "xi"
   ]
  },
  {
   "cell_type": "code",
   "execution_count": 54,
   "id": "0c603474-a79b-42e6-a7c9-8a807b7dc9ca",
   "metadata": {
    "tags": []
   },
   "outputs": [
    {
     "name": "stdout",
     "output_type": "stream",
     "text": [
      "\\frac{1}{4 \\pi^{2} C_{e} L w^{2} + G_{eff} \\left(R_{f0} + R_{s}\\right) + 2 I_{f0}^{2} R_{f0} dR_{f dT e} + i \\left(2 \\pi C_{e} R_{f0} w + 2 \\pi C_{e} R_{s} w - 2 \\pi G_{eff} L w\\right)}\n"
     ]
    }
   ],
   "source": [
    "print_latex(collect(xi, [I, G_eff]))"
   ]
  },
  {
   "cell_type": "code",
   "execution_count": 36,
   "id": "893bf4b9-ce40-44f0-9da5-66796912b8eb",
   "metadata": {
    "tags": []
   },
   "outputs": [
    {
     "data": {
      "text/latex": [
       "$\\displaystyle \\left[\\begin{matrix}- 2 i \\pi L w + R_{f0} + R_{s} & 2 I_{f0} R_{f0}\\\\- I_{f0} dR_{f dT e} & 2 i \\pi C_{e} w + G_{eff}\\end{matrix}\\right]$"
      ],
      "text/plain": [
       "Matrix([\n",
       "[-2*I*pi*L*w + R_f0 + R_s,          2*I_f0*R_f0],\n",
       "[         -I_f0*dR_f_dT_e, 2*I*pi*C_e*w + G_eff]])"
      ]
     },
     "execution_count": 36,
     "metadata": {},
     "output_type": "execute_result"
    }
   ],
   "source": [
    "S = A_inv/xi\n",
    "S"
   ]
  },
  {
   "cell_type": "markdown",
   "id": "b9ba3615-c000-4c17-93dd-e11eae47b7c2",
   "metadata": {},
   "source": [
    "# solve the transfer functions"
   ]
  },
  {
   "cell_type": "code",
   "execution_count": 55,
   "id": "c08d0c4c-a6f6-424e-a6b5-2045a490365d",
   "metadata": {
    "tags": []
   },
   "outputs": [
    {
     "data": {
      "text/latex": [
       "$\\displaystyle - \\frac{I_{f0} dR_{f dT e}}{- 2 i \\pi L w + R_{f0} + R_{s}}$"
      ],
      "text/plain": [
       "-I_f0*dR_f_dT_e/(-2*I*pi*L*w + R_f0 + R_s)"
      ]
     },
     "execution_count": 55,
     "metadata": {},
     "output_type": "execute_result"
    }
   ],
   "source": [
    "lambda_val = -I_f0 / (R_s + R_f0 - 2 * sp.pi * w * I * L) * dR_f_dT_e\n",
    "lambda_val"
   ]
  },
  {
   "cell_type": "code",
   "execution_count": 56,
   "id": "b71f771c-4af7-46d9-bcdd-796bfb37ea28",
   "metadata": {
    "tags": []
   },
   "outputs": [
    {
     "data": {
      "text/latex": [
       "$\\displaystyle \\frac{2 I_{f0} R_{f0}}{- 2 i \\pi L w + R_{f0} + R_{s}}$"
      ],
      "text/plain": [
       "2*I_f0*R_f0/(-2*I*pi*L*w + R_f0 + R_s)"
      ]
     },
     "execution_count": 56,
     "metadata": {},
     "output_type": "execute_result"
    }
   ],
   "source": [
    "beta = 2 * R_f0 * I_f0 / (R_s + R_f0 - 2 * sp.pi * w * I * L)\n",
    "beta"
   ]
  },
  {
   "cell_type": "code",
   "execution_count": 62,
   "id": "6c5991b4-0c52-4a06-a2b2-2d2536a313a6",
   "metadata": {
    "tags": []
   },
   "outputs": [
    {
     "data": {
      "text/latex": [
       "$\\displaystyle - \\frac{2 I_{f0} dR_{f dT e}}{4 \\pi^{2} C_{e} L w^{2} + 2 i \\pi C_{e} R_{f0} w + 2 i \\pi C_{e} R_{s} w - 2 i \\pi G_{eff} L w + G_{eff} R_{f0} + G_{eff} R_{s} + 2 I_{f0}^{2} R_{f0} dR_{f dT e}}$"
      ],
      "text/plain": [
       "-2*I_f0*dR_f_dT_e/(4*pi**2*C_e*L*w**2 + 2*I*pi*C_e*R_f0*w + 2*I*pi*C_e*R_s*w - 2*I*pi*G_eff*L*w + G_eff*R_f0 + G_eff*R_s + 2*I_f0**2*R_f0*dR_f_dT_e)"
      ]
     },
     "execution_count": 62,
     "metadata": {},
     "output_type": "execute_result"
    }
   ],
   "source": [
    "I_pe = lambda_val * A_inv[0,0] + A_inv[1,0]\n",
    "I_pe.simplify()"
   ]
  },
  {
   "cell_type": "code",
   "execution_count": 69,
   "id": "53a2c2da-9721-4c83-8aa7-d96dd11b927c",
   "metadata": {
    "tags": []
   },
   "outputs": [
    {
     "data": {
      "text/latex": [
       "$\\displaystyle - \\frac{2 I_{f0} dR_{f dT e}}{C_{e} \\left(4 \\pi^{2} L w^{2} + 2 i \\pi R_{f0} w + 2 i \\pi R_{s} w\\right) + G_{eff} \\left(- 2 i \\pi L w + R_{f0} + R_{s}\\right) + 2 I_{f0}^{2} R_{f0} dR_{f dT e}}$"
      ],
      "text/plain": [
       "-2*I_f0*dR_f_dT_e/(C_e*(4*pi**2*L*w**2 + 2*I*pi*R_f0*w + 2*I*pi*R_s*w) + G_eff*(-2*I*pi*L*w + R_f0 + R_s) + 2*I_f0**2*R_f0*dR_f_dT_e)"
      ]
     },
     "execution_count": 69,
     "metadata": {},
     "output_type": "execute_result"
    }
   ],
   "source": [
    "collect(I_pe, [G_eff, C_e])"
   ]
  },
  {
   "cell_type": "code",
   "execution_count": 64,
   "id": "3bb794b6-a6fb-45e2-b100-24a8d5ac0605",
   "metadata": {
    "tags": []
   },
   "outputs": [
    {
     "data": {
      "text/latex": [
       "$\\displaystyle \\frac{- 2 I_{f0}^{2} R_{f0} dR_{f dT e} + \\left(2 i \\pi C_{e} w + G_{eff}\\right) \\left(- 2 i \\pi L w + R_{f0} + R_{s}\\right)}{\\left(- 2 i \\pi L w + R_{f0} + R_{s}\\right) \\left(4 \\pi^{2} C_{e} L w^{2} + 2 i \\pi C_{e} R_{f0} w + 2 i \\pi C_{e} R_{s} w - 2 i \\pi G_{eff} L w + G_{eff} R_{f0} + G_{eff} R_{s} + 2 I_{f0}^{2} R_{f0} dR_{f dT e}\\right)}$"
      ],
      "text/plain": [
       "(-2*I_f0**2*R_f0*dR_f_dT_e + (2*I*pi*C_e*w + G_eff)*(-2*I*pi*L*w + R_f0 + R_s))/((-2*I*pi*L*w + R_f0 + R_s)*(4*pi**2*C_e*L*w**2 + 2*I*pi*C_e*R_f0*w + 2*I*pi*C_e*R_s*w - 2*I*pi*G_eff*L*w + G_eff*R_f0 + G_eff*R_s + 2*I_f0**2*R_f0*dR_f_dT_e))"
      ]
     },
     "execution_count": 64,
     "metadata": {},
     "output_type": "execute_result"
    }
   ],
   "source": [
    "I_u = lambda_val * A_inv[0,1] + A_inv[1,1]\n",
    "I_u.simplify()"
   ]
  },
  {
   "cell_type": "code",
   "execution_count": null,
   "id": "6d7d89f8-d770-4bf4-87cd-5bb178180c27",
   "metadata": {
    "tags": []
   },
   "outputs": [],
   "source": []
  },
  {
   "cell_type": "code",
   "execution_count": 65,
   "id": "378eef8e-08d8-4270-b131-b88d3822adab",
   "metadata": {
    "tags": []
   },
   "outputs": [
    {
     "data": {
      "text/latex": [
       "$\\displaystyle - \\frac{6 I_{f0}^{2} R_{f0} dR_{f dT e}}{\\left(- 2 i \\pi L w + R_{f0} + R_{s}\\right) \\left(4 \\pi^{2} C_{e} L w^{2} + 2 i \\pi C_{e} R_{f0} w + 2 i \\pi C_{e} R_{s} w - 2 i \\pi G_{eff} L w + G_{eff} R_{f0} + G_{eff} R_{s} + 2 I_{f0}^{2} R_{f0} dR_{f dT e}\\right)} + \\frac{2 i \\pi C_{e} w + G_{eff}}{4 \\pi^{2} C_{e} L w^{2} + 2 i \\pi C_{e} R_{f0} w + 2 i \\pi C_{e} R_{s} w - 2 i \\pi G_{eff} L w + G_{eff} R_{f0} + G_{eff} R_{s} + 2 I_{f0}^{2} R_{f0} dR_{f dT e}}$"
      ],
      "text/plain": [
       "-6*I_f0**2*R_f0*dR_f_dT_e/((-2*I*pi*L*w + R_f0 + R_s)*(4*pi**2*C_e*L*w**2 + 2*I*pi*C_e*R_f0*w + 2*I*pi*C_e*R_s*w - 2*I*pi*G_eff*L*w + G_eff*R_f0 + G_eff*R_s + 2*I_f0**2*R_f0*dR_f_dT_e)) + (2*I*pi*C_e*w + G_eff)/(4*pi**2*C_e*L*w**2 + 2*I*pi*C_e*R_f0*w + 2*I*pi*C_e*R_s*w - 2*I*pi*G_eff*L*w + G_eff*R_f0 + G_eff*R_s + 2*I_f0**2*R_f0*dR_f_dT_e)"
      ]
     },
     "execution_count": 65,
     "metadata": {},
     "output_type": "execute_result"
    }
   ],
   "source": [
    "I_u_total = beta*I_pe + I_u\n",
    "I_u_total.simplify()\n",
    "I_u_total"
   ]
  },
  {
   "cell_type": "code",
   "execution_count": null,
   "id": "8da469ec-a488-4716-9ee6-0fabc07396d5",
   "metadata": {},
   "outputs": [],
   "source": []
  }
 ],
 "metadata": {
  "kernelspec": {
   "display_name": "Python 3 (ipykernel)",
   "language": "python",
   "name": "python3"
  },
  "language_info": {
   "codemirror_mode": {
    "name": "ipython",
    "version": 3
   },
   "file_extension": ".py",
   "mimetype": "text/x-python",
   "name": "python",
   "nbconvert_exporter": "python",
   "pygments_lexer": "ipython3",
   "version": "3.10.10"
  }
 },
 "nbformat": 4,
 "nbformat_minor": 5
}
