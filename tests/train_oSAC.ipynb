{
 "cells": [
  {
   "cell_type": "code",
   "execution_count": 1,
   "id": "aa14f0d7-94cd-4422-beb3-e291199df8dd",
   "metadata": {},
   "outputs": [],
   "source": [
    "import gymnasium as gym\n",
    "import warnings\n",
    "import torch\n",
    "import numpy as np\n",
    "import matplotlib.pyplot as plt\n",
    "import pickle\n",
    "import argparse\n",
    "from tqdm.auto import tqdm, trange\n",
    "from cryoenv.mqtt import SoftActorCritic, ReturnTracker, HistoryWriter, CryoWorldModel, generate_sweep, augment_pars\n",
    "\n",
    "import pdb \n",
    "import os \n"
   ]
  },
  {
   "cell_type": "code",
   "execution_count": null,
   "id": "ede06583-1677-488c-8d50-3530eba4f7db",
   "metadata": {},
   "outputs": [],
   "source": [
    "class OfflineTrajectoryBuffer:\n",
    "    \n",
    "    def __init__(self, path):  # this is tuned for the Cryoenv!\n",
    "\n",
    "        self.state_memory = ...\n",
    "        self.next_state_memory = ...\n",
    "        self.action_memory = ...\n",
    "        self.reward_memory = ...\n",
    "        \n",
    "        self.buffer_size = self.state_memory.shape[0]\n",
    "        self.episode_length = self.state_memory.shape[1]\n",
    "        \n",
    "        self.terminal_memory = np.zeros((self.buffer_size, self.episode_length), dtype=bool)\n",
    "\n",
    "    def store_transition(self, **kwargs):\n",
    "        raise NotImplementedError(\"The offline buffer does not support storing transitions\")\n",
    "\n",
    "    def sample_buffer(self, **kwargs):\n",
    "        raise NotImplementedError(\"The offline buffer does not support sampling transitions\")\n",
    "\n",
    "    def sample_trajectories(self, batch_size):\n",
    "        idxs = np.random.choice(self.buffer_size, batch_size)\n",
    "\n",
    "        states = self.state_memory[idxs]\n",
    "        next_states = self.next_state_memory[idxs]\n",
    "        actions = self.action_memory[idxs]\n",
    "        rewards = self.reward_memory[idxs]\n",
    "        terminals = self.terminal_memory[idxs]\n",
    "\n",
    "        return states, actions, rewards, next_states, terminals\n",
    "\n",
    "    def __len__(self):\n",
    "        return self.buffer_size"
   ]
  },
  {
   "cell_type": "code",
   "execution_count": null,
   "id": "1d65d796-ccfc-4a57-8706-17ba18d72338",
   "metadata": {},
   "outputs": [],
   "source": [
    "# LSTM policy and critic "
   ]
  },
  {
   "cell_type": "code",
   "execution_count": null,
   "id": "7c102549-060f-4106-9f4f-fa1cbe6da7a7",
   "metadata": {},
   "outputs": [],
   "source": [
    "\n",
    "model = SoftActorCritic(env, policy = \"GaussianPolicy\", critic = \"QNetwork\", lr=args['lr'], buffer_size=buffer_size, learning_starts=0,\n",
    "                        batch_size=args['batch_size'], gamma=args['gamma'], gradient_steps=args['gradient_steps'], grad_clipping=.5, tau=0.005, \n",
    "                        device='cuda' if torch.cuda.is_available() else 'cpu')\n",
    "\n",
    "# In[12]:\n",
    "\n",
    "tracker = ReturnTracker()\n",
    "writer = HistoryWriter()"
   ]
  },
  {
   "cell_type": "code",
   "execution_count": null,
   "id": "4a44722c-23d7-4f11-b80f-b3a47043c3a5",
   "metadata": {},
   "outputs": [],
   "source": [
    "# start tensor board writer"
   ]
  },
  {
   "cell_type": "code",
   "execution_count": null,
   "id": "d8960081-adab-47c1-ac3d-bd3697feef9f",
   "metadata": {},
   "outputs": [],
   "source": [
    "# learn from buffer only "
   ]
  },
  {
   "cell_type": "code",
   "execution_count": null,
   "id": "4480250f-89d9-44be-add9-7ee7bfdc8f6d",
   "metadata": {},
   "outputs": [],
   "source": [
    "model.save(path_models)"
   ]
  }
 ],
 "metadata": {
  "kernelspec": {
   "display_name": "Python 3",
   "language": "python",
   "name": "python3"
  },
  "language_info": {
   "codemirror_mode": {
    "name": "ipython",
    "version": 3
   },
   "file_extension": ".py",
   "mimetype": "text/x-python",
   "name": "python",
   "nbconvert_exporter": "python",
   "pygments_lexer": "ipython3",
   "version": "3.9.12"
  }
 },
 "nbformat": 4,
 "nbformat_minor": 5
}
