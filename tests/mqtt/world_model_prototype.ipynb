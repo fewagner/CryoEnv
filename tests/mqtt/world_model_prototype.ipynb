{
 "cells": [
  {
   "cell_type": "code",
   "execution_count": 1,
   "id": "20deef24-0bea-4374-b1fd-c795a2e3a0b9",
   "metadata": {},
   "outputs": [],
   "source": [
    "import numpy as np\n",
    "import torch\n",
    "import torch.nn.functional as F\n",
    "import torch.nn as nn\n",
    "import torch.optim as optim\n",
    "\n",
    "from cryoenv.mqtt import ReplayBuffer, CryoWorldModel"
   ]
  },
  {
   "cell_type": "code",
   "execution_count": 37,
   "id": "8e2f4bf6-0842-478c-ad20-6981e8176802",
   "metadata": {},
   "outputs": [],
   "source": []
  },
  {
   "cell_type": "code",
   "execution_count": 38,
   "id": "33fa5bd7-2917-4881-823b-a39492dabe2c",
   "metadata": {},
   "outputs": [],
   "source": [
    "model = CryoWorldModel()"
   ]
  },
  {
   "cell_type": "code",
   "execution_count": 39,
   "id": "a25f2c73-0fde-4ee0-bd29-5f0d4566a3c6",
   "metadata": {},
   "outputs": [],
   "source": [
    "buffer = ReplayBuffer(buffer_size=500, input_shape=(7,), n_actions=2, memmap_loc='firstv1_2/data')"
   ]
  },
  {
   "cell_type": "code",
   "execution_count": 40,
   "id": "6e52ec26-7b4e-4092-8c97-6bb281c2cab2",
   "metadata": {},
   "outputs": [],
   "source": [
    "state, action, reward, next_state, terminal = buffer.sample_buffer(16)"
   ]
  },
  {
   "cell_type": "code",
   "execution_count": 66,
   "id": "795cf137-4794-48b5-a4ca-83f80b332956",
   "metadata": {},
   "outputs": [
    {
     "data": {
      "text/plain": [
       "0.00039839965756982565"
      ]
     },
     "execution_count": 66,
     "metadata": {},
     "output_type": "execute_result"
    }
   ],
   "source": [
    "model.train_batch(state, action, next_state, reward)"
   ]
  },
  {
   "cell_type": "code",
   "execution_count": 67,
   "id": "54435ae4-c973-43c5-af04-b5cd80387529",
   "metadata": {},
   "outputs": [
    {
     "data": {
      "text/plain": [
       "array([[ 0.01598804,  0.02139279,  0.        ,  0.        , -0.05942351,\n",
       "         0.        ,  0.        ],\n",
       "       [ 0.02061612,  0.00214339,  0.        ,  0.        ,  0.9622001 ,\n",
       "         0.        ,  0.        ],\n",
       "       [ 0.02024793,  0.01267968,  0.        ,  0.        ,  0.70278588,\n",
       "         0.        ,  0.        ],\n",
       "       [ 0.02071809,  0.00295962,  0.        ,  0.        ,  0.94023763,\n",
       "         0.        ,  0.        ],\n",
       "       [ 0.02104189,  0.00939739,  0.        ,  0.        ,  0.78727059,\n",
       "         0.        ,  0.        ],\n",
       "       [ 0.01577168,  0.01948898,  0.        ,  0.        ,  0.46846984,\n",
       "         0.        ,  0.        ],\n",
       "       [ 0.0206449 ,  0.00237374,  0.        ,  0.        ,  0.95600272,\n",
       "         0.        ,  0.        ],\n",
       "       [ 0.01940199,  0.01526406,  0.        ,  0.        ,  0.63839221,\n",
       "         0.        ,  0.        ],\n",
       "       [ 0.02076821,  0.0049631 ,  0.        ,  0.        ,  0.89282838,\n",
       "         0.        ,  0.        ],\n",
       "       [ 0.01323788,  0.0249552 ,  0.        ,  0.        ,  0.1182001 ,\n",
       "         0.        ,  0.        ],\n",
       "       [ 0.00773763,  0.02681492,  0.        ,  0.        , -0.65865047,\n",
       "         0.        ,  0.        ],\n",
       "       [ 0.01325111,  0.02595369,  0.        ,  0.        ,  0.17746799,\n",
       "         0.        ,  0.        ],\n",
       "       [ 0.01279445,  0.02537588,  0.        ,  0.        ,  0.27021817,\n",
       "         0.        ,  0.        ],\n",
       "       [ 0.01328602,  0.0248923 ,  0.        ,  0.        ,  0.11366833,\n",
       "         0.        ,  0.        ],\n",
       "       [ 0.01051984,  0.02485646,  0.        ,  0.        , -0.60946953,\n",
       "         0.        ,  0.        ],\n",
       "       [ 0.01832274,  0.01801248,  0.        ,  0.        , -0.31634516,\n",
       "         0.        ,  0.        ]])"
      ]
     },
     "execution_count": 67,
     "metadata": {},
     "output_type": "execute_result"
    }
   ],
   "source": [
    "model.get_next_state(state, action)"
   ]
  },
  {
   "cell_type": "code",
   "execution_count": null,
   "id": "03e237ff-de18-4c11-8fbc-7c66f9dfe29a",
   "metadata": {},
   "outputs": [],
   "source": []
  }
 ],
 "metadata": {
  "kernelspec": {
   "display_name": "Python 3",
   "language": "python",
   "name": "python3"
  },
  "language_info": {
   "codemirror_mode": {
    "name": "ipython",
    "version": 3
   },
   "file_extension": ".py",
   "mimetype": "text/x-python",
   "name": "python",
   "nbconvert_exporter": "python",
   "pygments_lexer": "ipython3",
   "version": "3.8.6"
  }
 },
 "nbformat": 4,
 "nbformat_minor": 5
}
