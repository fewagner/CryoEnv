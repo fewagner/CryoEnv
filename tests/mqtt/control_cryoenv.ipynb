{
 "cells": [
  {
   "cell_type": "code",
   "execution_count": null,
   "outputs": [],
   "source": [
    "import numpy as np\n",
    "import time\n",
    "import matplotlib.pyplot as plt\n",
    "import os\n",
    "import json\n",
    "import gym\n",
    "import warnings\n",
    "\n",
    "import sys\n",
    "import time\n",
    "from IPython.display import display, clear_output\n",
    "import torch\n",
    "\n",
    "from cryoenv.mqtt import SoftActorCritic, ReturnTracker, ReplayBuffer, check, subscribe, publish, connect_mqtt\n",
    "from cryoenv.envs import CryoEnvSigWrapper\n",
    "\n",
    "from mqtt_protocol import *\n",
    "from on_message_notebook import receive_as_control"
   ],
   "metadata": {
    "collapsed": false,
    "pycharm": {
     "name": "#%%\n"
    }
   }
  },
  {
   "cell_type": "code",
   "execution_count": null,
   "outputs": [],
   "source": [
    "np.random.seed(rseed)"
   ],
   "metadata": {
    "collapsed": false,
    "pycharm": {
     "name": "#%%\n"
    }
   }
  },
  {
   "cell_type": "code",
   "execution_count": null,
   "outputs": [],
   "source": [
    "warnings.simplefilter('ignore')"
   ],
   "metadata": {
    "collapsed": false,
    "pycharm": {
     "name": "#%%\n"
    }
   }
  },
  {
   "cell_type": "code",
   "execution_count": null,
   "outputs": [],
   "source": [
    "client_id = 'control-secondary'"
   ],
   "metadata": {
    "collapsed": false,
    "pycharm": {
     "name": "#%%\n"
    }
   }
  },
  {
   "cell_type": "code",
   "execution_count": null,
   "outputs": [],
   "source": [
    "env = gym.make('cryoenv:cryoenv-sig-v0',\n",
    "                   omega=omega,\n",
    "                   sample_pars=False,\n",
    "                   pars={'store_raw': False,\n",
    "                         'max_buffer_len': buffer_size,\n",
    "                         'tpa_queue': tpa_queue,\n",
    "                         'pileup_prob': pileup_prob,\n",
    "                         'xi': np.array([xi]),\n",
    "                         'tau': np.array([tau]),},\n",
    "               render_mode='human',\n",
    "                   )"
   ],
   "metadata": {
    "collapsed": false,
    "pycharm": {
     "name": "#%%\n"
    }
   }
  },
  {
   "cell_type": "code",
   "execution_count": null,
   "outputs": [],
   "source": [
    "state, info = env.reset()\n",
    "action = env.action_space.sample()"
   ],
   "metadata": {
    "collapsed": false,
    "pycharm": {
     "name": "#%%\n"
    }
   }
  },
  {
   "cell_type": "code",
   "execution_count": null,
   "outputs": [],
   "source": [
    "buffer = ReplayBuffer(buffer_size=buffer_size, input_shape=(env.observation_space.shape[0],), \n",
    "                      n_actions=env.action_space.shape[0], memmap_loc=path_buffer)"
   ],
   "metadata": {
    "collapsed": false,
    "pycharm": {
     "name": "#%%\n"
    }
   }
  },
  {
   "cell_type": "code",
   "execution_count": null,
   "outputs": [],
   "source": [
    "agent = SoftActorCritic.load(env, path_models)"
   ],
   "metadata": {
    "collapsed": false,
    "pycharm": {
     "name": "#%%\n"
    }
   }
  },
  {
   "cell_type": "code",
   "execution_count": null,
   "outputs": [],
   "source": [
    "buffer.erase()"
   ],
   "metadata": {
    "collapsed": false,
    "pycharm": {
     "name": "#%%\n"
    }
   }
  },
  {
   "cell_type": "code",
   "execution_count": null,
   "outputs": [],
   "source": [
    "userdata = {'agent': agent,\n",
    "            'env': env,\n",
    "            'state': state,\n",
    "            'action': action,\n",
    "            'buffer': buffer,\n",
    "            'learning_starts': learning_starts, \n",
    "            'path_models': path_models,\n",
    "            'greedy': False,\n",
    "            'channel': channel,\n",
    "            'omega': omega,\n",
    "            'set_pars_msg': set_pars_msg,\n",
    "            'subscribe_acknowledge_msg': subscribe_acknowledge_msg,\n",
    "            'trigger_msg': trigger_msg,\n",
    "            'acknowledge_msg': acknowledge_msg,\n",
    "            'adc_range': adc_range,\n",
    "            'dac_range': dac_range,\n",
    "            'Ib_range': Ib_range,\n",
    "           }\n",
    "\n",
    "client = connect_mqtt(broker, port, client_id, username, password, userdata = userdata)"
   ],
   "metadata": {
    "collapsed": false,
    "pycharm": {
     "name": "#%%\n"
    }
   }
  },
  {
   "cell_type": "code",
   "execution_count": null,
   "outputs": [],
   "source": [
    "subscribe(client, subscribe_acknowledge_msg['topic'])\n",
    "subscribe(client, trigger_msg['topic'])\n",
    "subscribe(client, acknowledge_msg['topic'])"
   ],
   "metadata": {
    "collapsed": false,
    "pycharm": {
     "name": "#%%\n"
    }
   }
  },
  {
   "cell_type": "code",
   "execution_count": null,
   "outputs": [],
   "source": [
    "client.on_message = receive_as_control"
   ],
   "metadata": {
    "collapsed": false,
    "pycharm": {
     "name": "#%%\n"
    }
   }
  },
  {
   "cell_type": "code",
   "execution_count": null,
   "outputs": [],
   "source": [
    "channel_info = {\"SubscribeToChannel\": channel}\n",
    "result = client.publish(subscribe_channel_msg['topic'], json.dumps(channel_info))\n",
    "check(result)"
   ],
   "metadata": {
    "collapsed": false,
    "pycharm": {
     "name": "#%%\n"
    }
   }
  },
  {
   "cell_type": "code",
   "execution_count": null,
   "outputs": [],
   "source": [
    "# userdata['greedy'] = True"
   ],
   "metadata": {
    "collapsed": false,
    "pycharm": {
     "name": "#%%\n"
    }
   }
  },
  {
   "cell_type": "code",
   "execution_count": null,
   "outputs": [],
   "source": [
    "client.loop_forever()"
   ],
   "metadata": {
    "collapsed": false,
    "pycharm": {
     "name": "#%%\n"
    }
   }
  }
 ],
 "metadata": {
  "kernelspec": {
   "display_name": "Python 3",
   "language": "python",
   "name": "python3"
  },
  "language_info": {
   "codemirror_mode": {
    "name": "ipython",
    "version": 3
   },
   "file_extension": ".py",
   "mimetype": "text/x-python",
   "name": "python",
   "nbconvert_exporter": "python",
   "pygments_lexer": "ipython3",
   "version": "3.8.6"
  }
 },
 "nbformat": 4,
 "nbformat_minor": 5
}