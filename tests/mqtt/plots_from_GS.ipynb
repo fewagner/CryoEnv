{
 "cells": [
  {
   "cell_type": "code",
   "execution_count": 2,
   "id": "3fbfa6cf-9b55-4312-b8fa-bb59dbf7708a",
   "metadata": {},
   "outputs": [],
   "source": [
    "import numpy as np\n",
    "import matplotlib.pyplot as plt\n",
    "import pickle\n",
    "import os\n",
    "import time\n",
    "\n",
    "from cryoenv.mqtt import HistoryWriter, generate_sweep\n",
    "\n",
    "%config InlineBackend.figure_formats = ['png']"
   ]
  },
  {
   "cell_type": "code",
   "execution_count": null,
   "id": "b55274d4-9635-4a60-89f5-0e2a8374a1cf",
   "metadata": {},
   "outputs": [],
   "source": []
  },
  {
   "cell_type": "code",
   "execution_count": null,
   "id": "2f866b9a-3db6-4cdf-9829-04e8e671f541",
   "metadata": {},
   "outputs": [],
   "source": [
    "import pyautogui\n",
    "while True:\n",
    "    pyautogui.moveTo(np.random.randint(0,1000), np.random.randint(0,1000), duration = 1)\n",
    "    time.sleep(5)"
   ]
  },
  {
   "cell_type": "code",
   "execution_count": null,
   "id": "2c214c6d-7698-4bf0-9a4a-03aa365c0f0c",
   "metadata": {},
   "outputs": [],
   "source": []
  },
  {
   "cell_type": "code",
   "execution_count": null,
   "id": "c3b21fb4-5930-4800-acc2-b9cbf36ef52d",
   "metadata": {},
   "outputs": [],
   "source": []
  },
  {
   "cell_type": "markdown",
   "id": "05f3e78c-400d-4d53-ae63-ffadec8c5abd",
   "metadata": {},
   "source": []
  },
  {
   "cell_type": "markdown",
   "id": "8b0dceef-a622-47a9-a88b-cc78f16fae0b",
   "metadata": {},
   "source": [
    "# "
   ]
  },
  {
   "cell_type": "code",
   "execution_count": null,
   "id": "39c8f60b-f202-4f17-974e-eaed4cc10d65",
   "metadata": {},
   "outputs": [],
   "source": [
    "with open('from_GS/models/writer.pickle', 'rb') as file:\n",
    "\n",
    "    writer = pickle.load(file)"
   ]
  },
  {
   "cell_type": "code",
   "execution_count": null,
   "id": "8e5b293f-a178-4f59-a9a6-5e81d0f80164",
   "metadata": {},
   "outputs": [],
   "source": [
    "for key in writer.history.keys():\n",
    "    writer.plot(key)"
   ]
  },
  {
   "cell_type": "code",
   "execution_count": null,
   "id": "51e61461-9b53-4272-8d7d-d252ff238f35",
   "metadata": {},
   "outputs": [],
   "source": [
    "x = np.memmap('from_GS/data/state_memory.npy', dtype=float, mode='r', shape=(10000,4))\n",
    "\n",
    "plt.plot(x[:300,1])\n",
    "plt.ylim(-1,-.99)"
   ]
  },
  {
   "cell_type": "code",
   "execution_count": null,
   "id": "b8e34e66-a276-4182-a4ae-0030796153a3",
   "metadata": {},
   "outputs": [],
   "source": []
  }
 ],
 "metadata": {
  "kernelspec": {
   "display_name": "Python 3",
   "language": "python",
   "name": "python3"
  },
  "language_info": {
   "codemirror_mode": {
    "name": "ipython",
    "version": 3
   },
   "file_extension": ".py",
   "mimetype": "text/x-python",
   "name": "python",
   "nbconvert_exporter": "python",
   "pygments_lexer": "ipython3",
   "version": "3.8.6"
  }
 },
 "nbformat": 4,
 "nbformat_minor": 5
}
