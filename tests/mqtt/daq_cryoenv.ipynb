{
 "cells": [
  {
   "cell_type": "code",
   "execution_count": 1,
   "id": "a02e6ab3-5beb-4588-af40-1c15632c0ef3",
   "metadata": {},
   "outputs": [],
   "source": [
    "import numpy as np\n",
    "import time\n",
    "import matplotlib.pyplot as plt\n",
    "import json\n",
    "\n",
    "import sys\n",
    "import time\n",
    "from IPython.display import display, clear_output\n",
    "import torch\n",
    "import warnings\n",
    "import gym\n",
    "\n",
    "from cryoenv.mqtt import SoftActorCritic, ReturnTracker, ReplayBuffer, check, subscribe, publish, connect_mqtt\n",
    "from cryoenv.envs import CryoEnvSigWrapper\n",
    "\n",
    "from mqtt_protocol import *\n",
    "from on_message_notebook import receive_as_daq"
   ]
  },
  {
   "cell_type": "code",
   "execution_count": 2,
   "id": "ddcc30b4-bf6c-48b4-9d40-620d76a53cf3",
   "metadata": {},
   "outputs": [],
   "source": [
    "np.random.seed(rseed)"
   ]
  },
  {
   "cell_type": "code",
   "execution_count": 3,
   "id": "a553efeb-cd5f-4982-a0d4-57e7d5d90849",
   "metadata": {},
   "outputs": [],
   "source": [
    "warnings.simplefilter('ignore')"
   ]
  },
  {
   "cell_type": "code",
   "execution_count": 4,
   "id": "a25bd392-54ab-456f-a648-79e5dec64360",
   "metadata": {},
   "outputs": [],
   "source": [
    "client_id = 'daq-primary'"
   ]
  },
  {
   "cell_type": "code",
   "execution_count": 5,
   "id": "c92c2efc-7a53-41a4-8611-908ef99479d1",
   "metadata": {},
   "outputs": [],
   "source": [
    "env = gym.make('cryoenv:cryoenv-sig-v0',\n",
    "                   omega=omega,\n",
    "                   sample_pars=False,\n",
    "                   pars={'store_raw': False,\n",
    "                         'max_buffer_len': buffer_size,\n",
    "                         'tpa_queue': tpa_queue,\n",
    "                         'pileup_prob': pileup_prob,\n",
    "                         'xi': np.array([xi]),\n",
    "                         'tau': np.array([tau]),},\n",
    "               render_mode='human',\n",
    "                   )"
   ]
  },
  {
   "cell_type": "code",
   "execution_count": 6,
   "id": "d917266e-9f6b-4a7e-8df5-02dd2c559cd6",
   "metadata": {},
   "outputs": [],
   "source": [
    "userdata = {'channel': channel,\n",
    "            'msg_received': 0, \n",
    "            'action': env.action_space.sample(),\n",
    "            'set_pars_msg': set_pars_msg,\n",
    "            'subscribe_acknowledge_msg': subscribe_acknowledge_msg,\n",
    "            'subscribe_channel_msg': subscribe_channel_msg,\n",
    "            'trigger_msg': trigger_msg,\n",
    "            'acknowledge_msg': acknowledge_msg,\n",
    "            'adc_range': adc_range,\n",
    "            'dac_range': dac_range,\n",
    "            'Ib_range': Ib_range,\n",
    "           }\n",
    "\n",
    "client = connect_mqtt(broker, port, client_id, username, password, userdata=userdata)"
   ]
  },
  {
   "cell_type": "code",
   "execution_count": 7,
   "id": "4a8c087b-14f3-4d5a-b6e2-fa061c4584d7",
   "metadata": {},
   "outputs": [],
   "source": [
    "subscribe(client, subscribe_channel_msg['topic'])\n",
    "subscribe(client, set_pars_msg['topic'])"
   ]
  },
  {
   "cell_type": "code",
   "execution_count": 8,
   "id": "fd260d14-5fd1-410b-a2e4-ec0814747762",
   "metadata": {},
   "outputs": [],
   "source": [
    "client.on_message = receive_as_daq"
   ]
  },
  {
   "cell_type": "code",
   "execution_count": 9,
   "id": "612884d0-571e-4a45-b8fc-9213761b51cc",
   "metadata": {},
   "outputs": [
    {
     "name": "stdout",
     "output_type": "stream",
     "text": [
      "Action:  [-0.44592401 -0.91281021]\n",
      "Reward:  -0.0008508257740210684\n",
      "ChannelID 1\n",
      "TPA 1\n",
      "LBaseline 0\n",
      "PulseHeight 0.18963906096541583\n",
      "RMS 6.911435926904019e-05\n",
      "DAC 0.5540759861469269\n",
      "BiasCurrent 0.08718979358673096\n",
      "Samples (16384,)\n",
      "steps: 150, msg received: 145\n"
     ]
    },
    {
     "ename": "KeyboardInterrupt",
     "evalue": "",
     "output_type": "error",
     "traceback": [
      "\u001b[0;31m---------------------------------------------------------------------------\u001b[0m",
      "\u001b[0;31mKeyboardInterrupt\u001b[0m                         Traceback (most recent call last)",
      "\u001b[0;32m<ipython-input-9-159dc1f27670>\u001b[0m in \u001b[0;36m<module>\u001b[0;34m\u001b[0m\n\u001b[1;32m     38\u001b[0m     \u001b[0mprint\u001b[0m\u001b[0;34m(\u001b[0m\u001b[0;34m'steps: {}, msg received: {}'\u001b[0m\u001b[0;34m.\u001b[0m\u001b[0mformat\u001b[0m\u001b[0;34m(\u001b[0m\u001b[0msteps\u001b[0m\u001b[0;34m,\u001b[0m \u001b[0muserdata\u001b[0m\u001b[0;34m[\u001b[0m\u001b[0;34m'msg_received'\u001b[0m\u001b[0;34m]\u001b[0m\u001b[0;34m)\u001b[0m\u001b[0;34m)\u001b[0m\u001b[0;34m\u001b[0m\u001b[0;34m\u001b[0m\u001b[0m\n\u001b[1;32m     39\u001b[0m \u001b[0;34m\u001b[0m\u001b[0m\n\u001b[0;32m---> 40\u001b[0;31m     \u001b[0menv\u001b[0m\u001b[0;34m.\u001b[0m\u001b[0mrender\u001b[0m\u001b[0;34m(\u001b[0m\u001b[0;34m)\u001b[0m\u001b[0;34m\u001b[0m\u001b[0;34m\u001b[0m\u001b[0m\n\u001b[0m\u001b[1;32m     41\u001b[0m     \u001b[0msys\u001b[0m\u001b[0;34m.\u001b[0m\u001b[0mstdout\u001b[0m\u001b[0;34m.\u001b[0m\u001b[0mflush\u001b[0m\u001b[0;34m(\u001b[0m\u001b[0;34m)\u001b[0m\u001b[0;34m\u001b[0m\u001b[0;34m\u001b[0m\u001b[0m\n\u001b[1;32m     42\u001b[0m \u001b[0;34m\u001b[0m\u001b[0m\n",
      "\u001b[0;32m~/.pyenv/versions/3.8.6/lib/python3.8/site-packages/gym/wrappers/order_enforcing.py\u001b[0m in \u001b[0;36mrender\u001b[0;34m(self, *args, **kwargs)\u001b[0m\n\u001b[1;32m     49\u001b[0m                 \u001b[0;34m\"set `disable_render_order_enforcing=True` on the OrderEnforcer wrapper.\"\u001b[0m\u001b[0;34m\u001b[0m\u001b[0;34m\u001b[0m\u001b[0m\n\u001b[1;32m     50\u001b[0m             )\n\u001b[0;32m---> 51\u001b[0;31m         \u001b[0;32mreturn\u001b[0m \u001b[0mself\u001b[0m\u001b[0;34m.\u001b[0m\u001b[0menv\u001b[0m\u001b[0;34m.\u001b[0m\u001b[0mrender\u001b[0m\u001b[0;34m(\u001b[0m\u001b[0;34m*\u001b[0m\u001b[0margs\u001b[0m\u001b[0;34m,\u001b[0m \u001b[0;34m**\u001b[0m\u001b[0mkwargs\u001b[0m\u001b[0;34m)\u001b[0m\u001b[0;34m\u001b[0m\u001b[0;34m\u001b[0m\u001b[0m\n\u001b[0m\u001b[1;32m     52\u001b[0m \u001b[0;34m\u001b[0m\u001b[0m\n\u001b[1;32m     53\u001b[0m     \u001b[0;34m@\u001b[0m\u001b[0mproperty\u001b[0m\u001b[0;34m\u001b[0m\u001b[0;34m\u001b[0m\u001b[0m\n",
      "\u001b[0;32m~/.pyenv/versions/3.8.6/lib/python3.8/site-packages/gym/wrappers/env_checker.py\u001b[0m in \u001b[0;36mrender\u001b[0;34m(self, *args, **kwargs)\u001b[0m\n\u001b[1;32m     53\u001b[0m             \u001b[0;32mreturn\u001b[0m \u001b[0menv_render_passive_checker\u001b[0m\u001b[0;34m(\u001b[0m\u001b[0mself\u001b[0m\u001b[0;34m.\u001b[0m\u001b[0menv\u001b[0m\u001b[0;34m,\u001b[0m \u001b[0;34m*\u001b[0m\u001b[0margs\u001b[0m\u001b[0;34m,\u001b[0m \u001b[0;34m**\u001b[0m\u001b[0mkwargs\u001b[0m\u001b[0;34m)\u001b[0m\u001b[0;34m\u001b[0m\u001b[0;34m\u001b[0m\u001b[0m\n\u001b[1;32m     54\u001b[0m         \u001b[0;32melse\u001b[0m\u001b[0;34m:\u001b[0m\u001b[0;34m\u001b[0m\u001b[0;34m\u001b[0m\u001b[0m\n\u001b[0;32m---> 55\u001b[0;31m             \u001b[0;32mreturn\u001b[0m \u001b[0mself\u001b[0m\u001b[0;34m.\u001b[0m\u001b[0menv\u001b[0m\u001b[0;34m.\u001b[0m\u001b[0mrender\u001b[0m\u001b[0;34m(\u001b[0m\u001b[0;34m*\u001b[0m\u001b[0margs\u001b[0m\u001b[0;34m,\u001b[0m \u001b[0;34m**\u001b[0m\u001b[0mkwargs\u001b[0m\u001b[0;34m)\u001b[0m\u001b[0;34m\u001b[0m\u001b[0;34m\u001b[0m\u001b[0m\n\u001b[0m",
      "\u001b[0;32m~/PycharmProjects/cryoenv/cryoenv/envs/_sigwrap.py\u001b[0m in \u001b[0;36mrender\u001b[0;34m(self, save_path)\u001b[0m\n\u001b[1;32m    124\u001b[0m         \u001b[0;32mif\u001b[0m \u001b[0mself\u001b[0m\u001b[0;34m.\u001b[0m\u001b[0mrender_mode\u001b[0m \u001b[0;34m==\u001b[0m \u001b[0;34m\"human\"\u001b[0m\u001b[0;34m:\u001b[0m\u001b[0;34m\u001b[0m\u001b[0;34m\u001b[0m\u001b[0m\n\u001b[1;32m    125\u001b[0m             \u001b[0;31m# self.detector.plot_event(show=True)\u001b[0m\u001b[0;34m\u001b[0m\u001b[0;34m\u001b[0m\u001b[0;34m\u001b[0m\u001b[0m\n\u001b[0;32m--> 126\u001b[0;31m             \u001b[0mself\u001b[0m\u001b[0;34m.\u001b[0m\u001b[0mdetector\u001b[0m\u001b[0;34m.\u001b[0m\u001b[0mplot_temperatures\u001b[0m\u001b[0;34m(\u001b[0m\u001b[0mshow\u001b[0m\u001b[0;34m=\u001b[0m\u001b[0;32mTrue\u001b[0m\u001b[0;34m)\u001b[0m\u001b[0;34m\u001b[0m\u001b[0;34m\u001b[0m\u001b[0m\n\u001b[0m\u001b[1;32m    127\u001b[0m             \u001b[0mself\u001b[0m\u001b[0;34m.\u001b[0m\u001b[0mdetector\u001b[0m\u001b[0;34m.\u001b[0m\u001b[0mplot_tes\u001b[0m\u001b[0;34m(\u001b[0m\u001b[0mshow\u001b[0m\u001b[0;34m=\u001b[0m\u001b[0;32mTrue\u001b[0m\u001b[0;34m)\u001b[0m\u001b[0;34m\u001b[0m\u001b[0;34m\u001b[0m\u001b[0m\n\u001b[1;32m    128\u001b[0m \u001b[0;34m\u001b[0m\u001b[0m\n",
      "\u001b[0;32m~/PycharmProjects/cryoenv/cryoenv/cryosig/_detector_model.py\u001b[0m in \u001b[0;36mplot_temperatures\u001b[0;34m(self, show, save_path)\u001b[0m\n\u001b[1;32m    389\u001b[0m \u001b[0;34m\u001b[0m\u001b[0m\n\u001b[1;32m    390\u001b[0m         \u001b[0mpower_input\u001b[0m \u001b[0;34m=\u001b[0m \u001b[0mmap\u001b[0m\u001b[0;34m(\u001b[0m\u001b[0mself\u001b[0m\u001b[0;34m.\u001b[0m\u001b[0mP\u001b[0m\u001b[0;34m,\u001b[0m \u001b[0mself\u001b[0m\u001b[0;34m.\u001b[0m\u001b[0mt\u001b[0m\u001b[0;34m,\u001b[0m \u001b[0mself\u001b[0m\u001b[0;34m.\u001b[0m\u001b[0mT\u001b[0m\u001b[0;34m,\u001b[0m \u001b[0mself\u001b[0m\u001b[0;34m.\u001b[0m\u001b[0mIt\u001b[0m\u001b[0;34m)\u001b[0m  \u001b[0;31m# for i in range(self.t.shape[0])]\u001b[0m\u001b[0;34m\u001b[0m\u001b[0;34m\u001b[0m\u001b[0m\n\u001b[0;32m--> 391\u001b[0;31m         \u001b[0mpower_input\u001b[0m \u001b[0;34m=\u001b[0m \u001b[0mnp\u001b[0m\u001b[0;34m.\u001b[0m\u001b[0marray\u001b[0m\u001b[0;34m(\u001b[0m\u001b[0mlist\u001b[0m\u001b[0;34m(\u001b[0m\u001b[0mpower_input\u001b[0m\u001b[0;34m)\u001b[0m\u001b[0;34m)\u001b[0m\u001b[0;34m\u001b[0m\u001b[0;34m\u001b[0m\u001b[0m\n\u001b[0m\u001b[1;32m    392\u001b[0m \u001b[0;34m\u001b[0m\u001b[0m\n\u001b[1;32m    393\u001b[0m         \u001b[0;32mfor\u001b[0m \u001b[0mi\u001b[0m \u001b[0;32min\u001b[0m \u001b[0mrange\u001b[0m\u001b[0;34m(\u001b[0m\u001b[0mself\u001b[0m\u001b[0;34m.\u001b[0m\u001b[0mnmbr_components\u001b[0m\u001b[0;34m)\u001b[0m\u001b[0;34m:\u001b[0m\u001b[0;34m\u001b[0m\u001b[0;34m\u001b[0m\u001b[0m\n",
      "\u001b[0;32m~/PycharmProjects/cryoenv/cryoenv/cryosig/_detector_model.py\u001b[0m in \u001b[0;36mP\u001b[0;34m(self, t, T, It, no_pulses)\u001b[0m\n\u001b[1;32m    737\u001b[0m             P += self.pileup_er * self.eps[self.pileup_comp] * np.exp(\n\u001b[1;32m    738\u001b[0m                 -(t - self.pileup_t0) / self.lamb) / self.lamb * keV_to_pJ  # pile up particle\n\u001b[0;32m--> 739\u001b[0;31m         \u001b[0;32mfor\u001b[0m \u001b[0mi\u001b[0m \u001b[0;32min\u001b[0m \u001b[0mrange\u001b[0m\u001b[0;34m(\u001b[0m\u001b[0mself\u001b[0m\u001b[0;34m.\u001b[0m\u001b[0mnmbr_tes\u001b[0m\u001b[0;34m)\u001b[0m\u001b[0;34m:\u001b[0m\u001b[0;34m\u001b[0m\u001b[0;34m\u001b[0m\u001b[0m\n\u001b[0m\u001b[1;32m    740\u001b[0m             \u001b[0mc\u001b[0m \u001b[0;34m=\u001b[0m \u001b[0mnp\u001b[0m\u001b[0;34m.\u001b[0m\u001b[0mnonzero\u001b[0m\u001b[0;34m(\u001b[0m\u001b[0mself\u001b[0m\u001b[0;34m.\u001b[0m\u001b[0mtes_flag\u001b[0m\u001b[0;34m)\u001b[0m\u001b[0;34m[\u001b[0m\u001b[0;36m0\u001b[0m\u001b[0;34m]\u001b[0m\u001b[0;34m[\u001b[0m\u001b[0mi\u001b[0m\u001b[0;34m]\u001b[0m\u001b[0;34m\u001b[0m\u001b[0;34m\u001b[0m\u001b[0m\n\u001b[1;32m    741\u001b[0m             \u001b[0mP\u001b[0m\u001b[0;34m[\u001b[0m\u001b[0mc\u001b[0m\u001b[0;34m]\u001b[0m \u001b[0;34m+=\u001b[0m \u001b[0mself\u001b[0m\u001b[0;34m.\u001b[0m\u001b[0mRt\u001b[0m\u001b[0;34m[\u001b[0m\u001b[0mi\u001b[0m\u001b[0;34m]\u001b[0m\u001b[0;34m(\u001b[0m\u001b[0mT\u001b[0m\u001b[0;34m[\u001b[0m\u001b[0mc\u001b[0m\u001b[0;34m]\u001b[0m\u001b[0;34m)\u001b[0m \u001b[0;34m*\u001b[0m \u001b[0mIt\u001b[0m\u001b[0;34m[\u001b[0m\u001b[0mi\u001b[0m\u001b[0;34m]\u001b[0m \u001b[0;34m**\u001b[0m \u001b[0;36m2\u001b[0m  \u001b[0;31m# self heating\u001b[0m\u001b[0;34m\u001b[0m\u001b[0;34m\u001b[0m\u001b[0m\n",
      "\u001b[0;31mKeyboardInterrupt\u001b[0m: "
     ]
    },
    {
     "data": {
      "image/png": "[encoded data removed]",
      "text/plain": [
       "<Figure size 720x216 with 2 Axes>"
      ]
     },
     "metadata": {
      "needs_background": "light"
     },
     "output_type": "display_data"
    }
   ],
   "source": [
    "terminated, truncated = False, False\n",
    "    \n",
    "state, info = env.reset()\n",
    "steps = 0\n",
    "\n",
    "while not terminated and not truncated:\n",
    "    \n",
    "    time.sleep(.1)\n",
    "    clear_output(wait=True)\n",
    "    \n",
    "    print('Action: ', userdata['action'])\n",
    "    new_state, reward, terminated, truncated, info = env.step(userdata['action'].flatten())\n",
    "    print('Reward: ', reward)\n",
    "        \n",
    "    payload = {\n",
    "        'ChannelID': userdata['channel'], \n",
    "        'TPA': int(env.detector.tpa_queue[env.detector.tpa_idx if env.detector.tpa_idx != 0 else len(env.detector.tpa_queue) - 1][0]), \n",
    "        'LBaseline': 0, \n",
    "        'PulseHeight': (new_state[0] + 1) / 2 * adc_range[1], \n",
    "        'RMS': (new_state[1] + 1) / 2 * adc_range[1], \n",
    "        'DAC': dac_range[0] + (new_state[3] + 1) / 2 * (dac_range[1] - dac_range[0]), \n",
    "        'BiasCurrent': Ib_range[0] + (new_state[2] + 1) / 2 * (Ib_range[1] - Ib_range[0]), \n",
    "        'Samples': (env.detector.get_record().flatten() * 10./65536.).tolist(),\n",
    "    }\n",
    "    \n",
    "    for k,v in zip(payload.keys(), payload.values()):\n",
    "        if k == 'Samples':\n",
    "            print(k,np.array(v).shape)\n",
    "        else:\n",
    "            print(k,v)\n",
    "\n",
    "    result = client.publish(trigger_msg['topic'], json.dumps(payload))\n",
    "    check(result)\n",
    "        \n",
    "    steps += 1\n",
    "    state = new_state\n",
    "\n",
    "    print('steps: {}, msg received: {}'.format(steps, userdata['msg_received']))\n",
    "\n",
    "    env.render()\n",
    "    sys.stdout.flush()\n",
    "    \n",
    "    for i in range(5):\n",
    "        client.loop(.1)  # here the new action is set\n",
    "        \n",
    "    if userdata['msg_received'] > 200:\n",
    "        break"
   ]
  },
  {
   "cell_type": "code",
   "execution_count": 10,
   "id": "5cf99ad0-24e1-44b3-a472-e56e5f15e126",
   "metadata": {},
   "outputs": [
    {
     "data": {
      "image/png": "[encoded data removed]",
      "text/plain": [
       "<Figure size 720x432 with 4 Axes>"
      ]
     },
     "metadata": {
      "needs_background": "light"
     },
     "output_type": "display_data"
    }
   ],
   "source": [
    "env.detector.plot_buffer()"
   ]
  },
  {
   "cell_type": "code",
   "execution_count": null,
   "id": "5d1fc51b-0254-48c8-8321-3175ca324040",
   "metadata": {},
   "outputs": [],
   "source": []
  }
 ],
 "metadata": {
  "kernelspec": {
   "display_name": "Python 3",
   "language": "python",
   "name": "python3"
  },
  "language_info": {
   "codemirror_mode": {
    "name": "ipython",
    "version": 3
   },
   "file_extension": ".py",
   "mimetype": "text/x-python",
   "name": "python",
   "nbconvert_exporter": "python",
   "pygments_lexer": "ipython3",
   "version": "3.8.6"
  }
 },
 "nbformat": 4,
 "nbformat_minor": 5
}
