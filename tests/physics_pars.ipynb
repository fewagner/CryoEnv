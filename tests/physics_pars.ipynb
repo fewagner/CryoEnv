{
 "cells": [
  {
   "cell_type": "code",
   "execution_count": 4,
   "id": "89dea281-09f7-49d2-b12c-8c2ae6de8e95",
   "metadata": {},
   "outputs": [],
   "source": [
    "import numpy as np\n",
    "import matplotlib.pyplot as plt"
   ]
  },
  {
   "cell_type": "markdown",
   "id": "0ca03322-874f-4196-90ba-4d80790e01d6",
   "metadata": {},
   "source": [
    "# extract info from data"
   ]
  },
  {
   "cell_type": "code",
   "execution_count": null,
   "id": "845a1974-e88b-4ac7-aa19-3e7536867210",
   "metadata": {},
   "outputs": [],
   "source": [
    "path = '../../rltest_data/'\n",
    "\n",
    "nps_ch1 =\n",
    "nps_ch2 =\n",
    "nps_ch6 =\n",
    "\n",
    "sev_ch1 =\n",
    "sev_ch2 =\n",
    "sev_ch6 =\n",
    "\n",
    "transition_curves = "
   ]
  },
  {
   "cell_type": "code",
   "execution_count": 5,
   "id": "6c3053f8-807a-43c7-b75d-8e44ff02b067",
   "metadata": {
    "tags": []
   },
   "outputs": [
    {
     "name": "stdout",
     "output_type": "stream",
     "text": [
      "Channel_0_NPS.xy\n",
      "Channel_0_SEV_Particle.xy\n",
      "Channel_1_NPS.xy\n",
      "Channel_1_SEV_Particle.xy\n",
      "Channel_5_NPS.xy\n",
      "Channel_5_SEV_Particle.xy\n",
      "Li1.jpeg\n",
      "Li2.jpeg\n",
      "Screenshot_20230221_182807_Samsung Notes.jpg\n",
      "instructions.rtf\n",
      "\u001b[34mmqtt_tests\u001b[m\u001b[m\n",
      "photo_2023-02-22 19.24.59.jpeg\n",
      "photo_2023-02-22 19.25.02.jpeg\n",
      "rl_tests.xy\n"
     ]
    }
   ],
   "source": [
    "! ls ../../rltest_data/"
   ]
  },
  {
   "cell_type": "markdown",
   "id": "944a4f12-2fc5-4ca9-b2ac-30ce96703a35",
   "metadata": {},
   "source": [
    "# calc detector properties"
   ]
  },
  {
   "cell_type": "code",
   "execution_count": 2,
   "id": "1db23234-316f-4db3-b536-c3814c892b03",
   "metadata": {},
   "outputs": [],
   "source": [
    "# Infos\n",
    "# units are always mK, pJ, pW, Ohm, H, muA, V, s, Hz, mm, keV, g, ...\n",
    "\n",
    "# things to take from data:\n",
    "\n",
    "# tau_film and tau_crystal from tau_n = ( 1/tau_film + 1/tau_crystal )^-1\n",
    "# and tau_film from A_fast = epsilon E / Ce and epsilon = tau_film / (tau_film + tau_crystal)\n",
    "# this gives tau_film = (1 + beta) tau_n and tau_crystal = (1 + beta) / beta tau_n\n",
    "# with beta = E / A_fast / Ce - 1\n",
    "\n",
    "# but we need A_fast in term of temperature\n",
    "\n",
    "# for this we need the transition curve and the OP at the point where A_fast was measured\n",
    "# scale the transition curve to the bias current and get derivative at DAC\n",
    "# get V/phi_0 from Heater bias client: Phi-0 [Volt / Phi-0]: 8.65\n",
    "# the input coil sensitivity is then 0.15 muA/phi_0\n",
    "# therefore 8.65 V PH = 0.15 muA PH * der sensitivity range (zehnerpotenz)\n",
    "# sensitivity range get from squid client - it is * 100\n",
    "\n",
    "# bias currents were: Li1P 2.8, Li1L 0.84, Li2P 3.0\n",
    "# V_sets were: Li1P 1.55, Li1L 0.287, Li2P 2.5\n",
    "\n",
    "# critical temperature\n",
    "# tes_fluct is the prefactor of the 1/f noise component\n",
    "# emi is the prefactor of the 50 Hz peak\n",
    "# Rh, or estimate \n",
    "\n",
    "# get NPS, calc expected noise and fit other components\n",
    "\n",
    "absorber_pars = {\n",
    "    'material': 'LiAl02',  # 'Si' for light detector \n",
    "    'volume': 4000,  # mm^3, for ligh detector 200\n",
    "    'surface': 1600,  # mm^2, for light detector 840\n",
    "    'tau_crystal': ...,  # s / mm^3 * mm^2 - multiply with volume absorber (mm^3), divide by surface (mm^2)  # should also scale with sound velocity absorber\n",
    "           }\n",
    "\n",
    "tes_pars = {\n",
    "    'material': 'W',\n",
    "    'thickness': 0.0002,  # mm  # size \"S\"\n",
    "    'surface': 1.02,  # mm^2\n",
    "    'surface_phonon_collector': 7.6,  # mm^2\n",
    "    'critical_temperature': ...,  # mK\n",
    "    'tau_film': ...,  # s / mm^3 * mm^2 - multiply with volume absorber (mm^3), divide by surface interface (TES + collectors) (mm^2)  # should also scale with sound velocity absorber\n",
    "    'Rt0': 0.110,  # Ohm, 0.1 for Li2 Phonon\n",
    "    'tes_fluct': ...,  # ?\n",
    "    \n",
    "           }\n",
    "\n",
    "utility_pars = {\n",
    "    'bath_temperature': 11,  # mK\n",
    "    'Rh': 10,  # Ohm\n",
    "    'Rs': 0.035,  # Ohm\n",
    "    'L': 3.5e-7, # H\n",
    "    'emi': ...,  # \n",
    "            }\n",
    "\n",
    "# below are constants of the materials\n",
    "\n",
    "fermi_temp = {'W': 27_000_000, 'Au': 63_900_000, 'Al': 134_900_000}  # mK\n",
    "debye_temp = {'W': 383_000, 'Au': 162_000, 'Al': 428_000, 'CaWO4': 128_000, 'Si': 648_000, 'Al203': 1_041_000, 'LiAlO2': None}  # mK\n",
    "sommerfeld_constant = {'W': 1.01e3, 'Au': 0.729e3, 'Al': 1.356e3}  # pJ / mol / mK^2 \n",
    "debye_frequency = {'CaWO4': 4.7e3, 'Si': 13.5e3, 'Al203': 21.7e3, 'LiAlO2': None}  # mK  # = kB*debye_temp/h\n",
    "energy_gap = {'CaWO4': 5.2e-3, 'Si': 1.12e-3, 'Al203': 8.3e-3, 'LiAlO2': None}  # keV\n",
    "molar_mass = {'W': None, 'Au': None, 'Al': None, 'CaWO4': None, 'Si': None, 'Al203': None, 'LiAlO2': None}  # g/mole\n",
    "density = {'W': None, 'Au': None, 'Al': None, 'CaWO4': None, 'Si': None, 'Al203': None, 'LiAlO2': None}  # g/mm^3\n",
    "electron_phonon_coupling = {'W': 2.1e-4}  # pW / mK^6 / mm^3 - multiply with T^5 (mK) \n",
    "thermal_conductivity = {'Au': 17.1e3}  # pW / mK^2 / mm - multiply with temperature (mK) and cross section (mm^2), divide by length (mm) \n",
    "\n",
    "# below are constants of nature\n",
    "\n",
    "kB = 1.380649e-17  # mm ^ 2 * g / s^2 / mK\n",
    "na = 6.02214076e23  # number of items per mole\n"
   ]
  },
  {
   "cell_type": "markdown",
   "id": "96f9101a-7250-46bc-9749-85108f30cfd1",
   "metadata": {},
   "source": [
    "## heat capacity absorber phonons"
   ]
  },
  {
   "cell_type": "code",
   "execution_count": null,
   "id": "2fff63b9-7b64-4de2-ba70-e3505a3faf3c",
   "metadata": {},
   "outputs": [],
   "source": [
    "Cph = 12 * np.pi ** 4 / 5 *   # "
   ]
  },
  {
   "cell_type": "markdown",
   "id": "8574f08a-fb87-4c21-95e7-8467abd1903a",
   "metadata": {},
   "source": [
    "## heat capacity TES electrons"
   ]
  },
  {
   "cell_type": "code",
   "execution_count": null,
   "id": "9c11093f-e1ef-41ad-bb32-32bffc92b00d",
   "metadata": {},
   "outputs": [],
   "source": []
  },
  {
   "cell_type": "markdown",
   "id": "862587be-4a3e-4b99-a97a-230c74962ce0",
   "metadata": {},
   "source": [
    "## electron - phonon coupling"
   ]
  },
  {
   "cell_type": "code",
   "execution_count": null,
   "id": "ff8664a6-5786-40c5-880a-257c2df4e297",
   "metadata": {},
   "outputs": [],
   "source": []
  },
  {
   "cell_type": "markdown",
   "id": "264562cb-7c2f-461b-adf7-d6b24baebb45",
   "metadata": {},
   "source": [
    "## bath coupling TES"
   ]
  },
  {
   "cell_type": "code",
   "execution_count": null,
   "id": "d89f8b5a-b192-4a5a-af0a-8f7da3d34b9d",
   "metadata": {},
   "outputs": [],
   "source": []
  },
  {
   "cell_type": "markdown",
   "id": "516b81bc-bcc1-44d9-97c6-63e62e5d1a9e",
   "metadata": {},
   "source": [
    "## bath coupling absorber"
   ]
  },
  {
   "cell_type": "code",
   "execution_count": null,
   "id": "a7a1abfd-af3c-46a5-a3c1-024b75b2c87b",
   "metadata": {},
   "outputs": [],
   "source": []
  },
  {
   "cell_type": "markdown",
   "id": "dc45556b-1a5c-4c25-8395-06fa06f0edb1",
   "metadata": {},
   "source": [
    "## epsilon"
   ]
  },
  {
   "cell_type": "code",
   "execution_count": null,
   "id": "adcb2d71-da30-42cf-a2a5-69e557ce4610",
   "metadata": {},
   "outputs": [],
   "source": []
  },
  {
   "cell_type": "markdown",
   "id": "4fe94f2f-a23c-413b-a910-a93ed9e9cc43",
   "metadata": {},
   "source": [
    "## tau n"
   ]
  },
  {
   "cell_type": "code",
   "execution_count": null,
   "id": "d354fb5f-51fb-401c-af64-9b220e68beca",
   "metadata": {},
   "outputs": [],
   "source": []
  },
  {
   "cell_type": "markdown",
   "id": "53d2c5b1-4b5f-4647-807c-512a3a7176b4",
   "metadata": {},
   "source": [
    "## pars dict"
   ]
  },
  {
   "cell_type": "code",
   "execution_count": null,
   "id": "79a8ce22-aa2f-43d8-b06c-dc655bbadb30",
   "metadata": {},
   "outputs": [],
   "source": [
    "pars = {\n",
    "    'C': ,  # pJ / mK, is defined later bec mutable\n",
    "    'Gb': np.array([5e-3, 5e-3]),  # pW / mK\n",
    "    'G': np.array([[0., 1e-3], [1e-3, 0.], ]),  # heat cond between components, pW / mK\n",
    "    'lamb': 0.003,  # thermalization time (s)\n",
    "    'eps': np.array([[0.99, 0.01], [0.1, 0.9], ]),  # share thermalization in components\n",
    "    'delta': np.array([[0.02, 0.98], ]),  # share thermalization in components\n",
    "    'Rs': np.array([0.035]),  # Ohm\n",
    "    'Rh': np.array([10]),  # Ohm\n",
    "    'L': np.array([3.5e-7]),  # H\n",
    "    'Rt0': np.array([0.2]),  # Ohm\n",
    "    'k': np.array([2.]),  # 1/mK\n",
    "    'Tc': np.array([15.]),  # mK\n",
    "    'Ib': np.array([1.]),  # muA\n",
    "    'dac': np.array([0.]),  # V\n",
    "    'pulser_scale': np.array([1.]),  # scale factor\n",
    "    'heater_attenuator': np.array([1.]),\n",
    "    'tes_flag': np.array([True, False], dtype=bool),  # which component is a tes\n",
    "    'heater_flag': np.array([False, True], dtype=bool),  # which component has a heater\n",
    "    'i_sq': np.array([2 * 1e-12]),  # squid noise, A / sqrt(Hz)\n",
    "    'tes_fluct': np.array([2e-4]),  # ??\n",
    "    'emi': np.array([2e-10]),  # ??\n",
    "    'Tb': None,  # function that takes one positional argument t, returns Tb\n",
    "    'tau': np.array([10]),\n",
    "}\n"
   ]
  },
  {
   "cell_type": "code",
   "execution_count": null,
   "id": "930b790e-c0f1-4d03-a5b3-79078f59780c",
   "metadata": {},
   "outputs": [],
   "source": []
  }
 ],
 "metadata": {
  "kernelspec": {
   "display_name": "Python 3 (ipykernel)",
   "language": "python",
   "name": "python3"
  },
  "language_info": {
   "codemirror_mode": {
    "name": "ipython",
    "version": 3
   },
   "file_extension": ".py",
   "mimetype": "text/x-python",
   "name": "python",
   "nbconvert_exporter": "python",
   "pygments_lexer": "ipython3",
   "version": "3.8.6"
  }
 },
 "nbformat": 4,
 "nbformat_minor": 5
}
