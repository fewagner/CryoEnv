{
 "cells": [
  {
   "cell_type": "code",
   "execution_count": 1,
   "id": "89dea281-09f7-49d2-b12c-8c2ae6de8e95",
   "metadata": {},
   "outputs": [],
   "source": [
    "import numpy as np\n",
    "import matplotlib.pyplot as plt\n",
    "import math"
   ]
  },
  {
   "cell_type": "code",
   "execution_count": 2,
   "id": "1db23234-316f-4db3-b536-c3814c892b03",
   "metadata": {},
   "outputs": [],
   "source": [
    "# Infos\n",
    "\n",
    "cryostat = {\n",
    "    'bath_temperature': ...,\n",
    "            }\n",
    "\n",
    "absorber = {\n",
    "    'material': ...,\n",
    "    'dimensions': ...,\n",
    "           }\n",
    "\n",
    "tes = {\n",
    "    'nmbr': ...,\n",
    "    'material': 'W',\n",
    "    'dimensions': ...,\n",
    "    'critical_temperatures': ...,\n",
    "           }"
   ]
  },
  {
   "cell_type": "code",
   "execution_count": 3,
   "id": "ec8f4ef5-6d00-4d70-b8d4-f03257d7d1de",
   "metadata": {},
   "outputs": [],
   "source": [
    "# calc heat capacities"
   ]
  },
  {
   "cell_type": "code",
   "execution_count": 4,
   "id": "7e3d0a64-7f80-4b06-99ec-89c609cdc525",
   "metadata": {},
   "outputs": [],
   "source": [
    "# calc electron - phonon coupling"
   ]
  },
  {
   "cell_type": "code",
   "execution_count": 5,
   "id": "6d30777e-8050-458d-a3e2-84fd5c956acc",
   "metadata": {},
   "outputs": [],
   "source": [
    "# calc bath couplings"
   ]
  },
  {
   "cell_type": "code",
   "execution_count": 6,
   "id": "5a7a6c0f-4d53-4c05-9255-e19421d10dbe",
   "metadata": {},
   "outputs": [],
   "source": [
    "# put in nice pars file"
   ]
  },
  {
   "cell_type": "code",
   "execution_count": null,
   "id": "79a8ce22-aa2f-43d8-b06c-dc655bbadb30",
   "metadata": {},
   "outputs": [],
   "source": []
  },
  {
   "cell_type": "code",
   "execution_count": null,
   "id": "930b790e-c0f1-4d03-a5b3-79078f59780c",
   "metadata": {},
   "outputs": [],
   "source": []
  },
  {
   "cell_type": "code",
   "execution_count": null,
   "id": "bc27ee55-107a-4434-8667-8c11c1a4d577",
   "metadata": {},
   "outputs": [],
   "source": []
  }
 ],
 "metadata": {
  "kernelspec": {
   "display_name": "Python 3",
   "language": "python",
   "name": "python3"
  },
  "language_info": {
   "codemirror_mode": {
    "name": "ipython",
    "version": 3
   },
   "file_extension": ".py",
   "mimetype": "text/x-python",
   "name": "python",
   "nbconvert_exporter": "python",
   "pygments_lexer": "ipython3",
   "version": "3.8.6"
  }
 },
 "nbformat": 4,
 "nbformat_minor": 5
}
